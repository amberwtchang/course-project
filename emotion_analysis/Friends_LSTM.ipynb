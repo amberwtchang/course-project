{
  "nbformat": 4,
  "nbformat_minor": 0,
  "metadata": {
    "kernelspec": {
      "display_name": "Python 3",
      "language": "python",
      "name": "python3"
    },
    "language_info": {
      "codemirror_mode": {
        "name": "ipython",
        "version": 3
      },
      "file_extension": ".py",
      "mimetype": "text/x-python",
      "name": "python",
      "nbconvert_exporter": "python",
      "pygments_lexer": "ipython3",
      "version": "3.7.4"
    },
    "colab": {
      "name": "Friends_LSTM.ipynb",
      "provenance": []
    }
  },
  "cells": [
    {
      "cell_type": "code",
      "metadata": {
        "id": "0oNNTtvGycH9",
        "colab_type": "code",
        "colab": {},
        "outputId": "b020de74-2c1c-42da-ac9a-89622e8ff080"
      },
      "source": [
        "import pandas as pd\n",
        "import numpy as np\n",
        "import keras as k\n",
        "import re\n",
        "import matplotlib.pyplot as plt\n",
        "from keras.models import Sequential\n",
        "from keras.layers import Dense\n",
        "from keras.layers import LSTM\n",
        "from keras.layers import SpatialDropout1D\n",
        "from keras.layers.embeddings import Embedding\n",
        "from keras.preprocessing import sequence\n",
        "from keras.preprocessing.text import Tokenizer\n",
        "from keras.preprocessing.sequence import pad_sequences\n",
        "from keras.callbacks import EarlyStopping"
      ],
      "execution_count": null,
      "outputs": [
        {
          "output_type": "stream",
          "text": [
            "Using TensorFlow backend.\n"
          ],
          "name": "stderr"
        }
      ]
    },
    {
      "cell_type": "code",
      "metadata": {
        "id": "Y_WyXAzpycIE",
        "colab_type": "code",
        "colab": {},
        "outputId": "1e0646b6-f1a7-414c-b98d-1cb1392b52ec"
      },
      "source": [
        "df_train = pd.read_csv('train_sent_emo.csv')\n",
        "\n",
        "#change emotion label into num type: {neutral:0, joy:1, anger:2, sadness:3, surprise:4, disgust:5, fear:6}\n",
        "emo_num = []\n",
        "for label in df_train['Emotion']:\n",
        "    if label == 'neutral':\n",
        "        emo_num.append(0)\n",
        "    if label == 'joy':\n",
        "        emo_num.append(1)\n",
        "    if label == 'anger':\n",
        "        emo_num.append(2)\n",
        "    if label == 'sadness':\n",
        "        emo_num.append(3)\n",
        "    if label == 'surprise':\n",
        "        emo_num.append(4)\n",
        "    if label == 'disgust':\n",
        "        emo_num.append(5)\n",
        "    if label == 'fear':\n",
        "        emo_num.append(6)\n",
        "df_train['emo_num'] = emo_num\n",
        "#df\n",
        "\n",
        "#copy selected columns and create a new dataset\n",
        "data_train = df_train[['Utterance', 'Emotion', 'emo_num']]\n",
        "data_train"
      ],
      "execution_count": null,
      "outputs": [
        {
          "output_type": "execute_result",
          "data": {
            "text/html": [
              "<div>\n",
              "<style scoped>\n",
              "    .dataframe tbody tr th:only-of-type {\n",
              "        vertical-align: middle;\n",
              "    }\n",
              "\n",
              "    .dataframe tbody tr th {\n",
              "        vertical-align: top;\n",
              "    }\n",
              "\n",
              "    .dataframe thead th {\n",
              "        text-align: right;\n",
              "    }\n",
              "</style>\n",
              "<table border=\"1\" class=\"dataframe\">\n",
              "  <thead>\n",
              "    <tr style=\"text-align: right;\">\n",
              "      <th></th>\n",
              "      <th>Utterance</th>\n",
              "      <th>Emotion</th>\n",
              "      <th>emo_num</th>\n",
              "    </tr>\n",
              "  </thead>\n",
              "  <tbody>\n",
              "    <tr>\n",
              "      <td>0</td>\n",
              "      <td>also I was the point person on my companys tr...</td>\n",
              "      <td>neutral</td>\n",
              "      <td>0</td>\n",
              "    </tr>\n",
              "    <tr>\n",
              "      <td>1</td>\n",
              "      <td>You mustve had your hands full.</td>\n",
              "      <td>neutral</td>\n",
              "      <td>0</td>\n",
              "    </tr>\n",
              "    <tr>\n",
              "      <td>2</td>\n",
              "      <td>That I did. That I did.</td>\n",
              "      <td>neutral</td>\n",
              "      <td>0</td>\n",
              "    </tr>\n",
              "    <tr>\n",
              "      <td>3</td>\n",
              "      <td>So lets talk a little bit about your duties.</td>\n",
              "      <td>neutral</td>\n",
              "      <td>0</td>\n",
              "    </tr>\n",
              "    <tr>\n",
              "      <td>4</td>\n",
              "      <td>My duties?  All right.</td>\n",
              "      <td>surprise</td>\n",
              "      <td>4</td>\n",
              "    </tr>\n",
              "    <tr>\n",
              "      <td>...</td>\n",
              "      <td>...</td>\n",
              "      <td>...</td>\n",
              "      <td>...</td>\n",
              "    </tr>\n",
              "    <tr>\n",
              "      <td>9984</td>\n",
              "      <td>You or me?</td>\n",
              "      <td>neutral</td>\n",
              "      <td>0</td>\n",
              "    </tr>\n",
              "    <tr>\n",
              "      <td>9985</td>\n",
              "      <td>I got it. Uh, Joey, women don't have Adam's ap...</td>\n",
              "      <td>neutral</td>\n",
              "      <td>0</td>\n",
              "    </tr>\n",
              "    <tr>\n",
              "      <td>9986</td>\n",
              "      <td>You guys are messing with me, right?</td>\n",
              "      <td>surprise</td>\n",
              "      <td>4</td>\n",
              "    </tr>\n",
              "    <tr>\n",
              "      <td>9987</td>\n",
              "      <td>Yeah.</td>\n",
              "      <td>neutral</td>\n",
              "      <td>0</td>\n",
              "    </tr>\n",
              "    <tr>\n",
              "      <td>9988</td>\n",
              "      <td>That was a good one. For a second there, I was...</td>\n",
              "      <td>joy</td>\n",
              "      <td>1</td>\n",
              "    </tr>\n",
              "  </tbody>\n",
              "</table>\n",
              "<p>9989 rows × 3 columns</p>\n",
              "</div>"
            ],
            "text/plain": [
              "                                              Utterance   Emotion  emo_num\n",
              "0     also I was the point person on my companys tr...   neutral        0\n",
              "1                      You mustve had your hands full.   neutral        0\n",
              "2                               That I did. That I did.   neutral        0\n",
              "3         So lets talk a little bit about your duties.   neutral        0\n",
              "4                                My duties?  All right.  surprise        4\n",
              "...                                                 ...       ...      ...\n",
              "9984                                         You or me?   neutral        0\n",
              "9985  I got it. Uh, Joey, women don't have Adam's ap...   neutral        0\n",
              "9986               You guys are messing with me, right?  surprise        4\n",
              "9987                                              Yeah.   neutral        0\n",
              "9988  That was a good one. For a second there, I was...       joy        1\n",
              "\n",
              "[9989 rows x 3 columns]"
            ]
          },
          "metadata": {
            "tags": []
          },
          "execution_count": 2
        }
      ]
    },
    {
      "cell_type": "code",
      "metadata": {
        "id": "FbLy1nKbycIH",
        "colab_type": "code",
        "colab": {},
        "outputId": "68fa090d-8cf2-49ff-fa76-ac24265087fa"
      },
      "source": [
        "df_test = pd.read_csv('test_sent_emo.csv')\n",
        "\n",
        "#change emotion label into num type: {neutral:0, joy:1, anger:2, sadness:3, surprise:4, disgust:5, fear:6}\n",
        "emo_num = []\n",
        "for label in df_test['Emotion']:\n",
        "    if label == 'neutral':\n",
        "        emo_num.append(0)\n",
        "    if label == 'joy':\n",
        "        emo_num.append(1)\n",
        "    if label == 'anger':\n",
        "        emo_num.append(2)\n",
        "    if label == 'sadness':\n",
        "        emo_num.append(3)\n",
        "    if label == 'surprise':\n",
        "        emo_num.append(4)\n",
        "    if label == 'disgust':\n",
        "        emo_num.append(5)\n",
        "    if label == 'fear':\n",
        "        emo_num.append(6)\n",
        "df_test['emo_num'] = emo_num\n",
        "#df\n",
        "\n",
        "#copy selected columns and create a new dataset\n",
        "data_test = df_test[['Utterance', 'Emotion', 'emo_num']]\n",
        "data_test"
      ],
      "execution_count": null,
      "outputs": [
        {
          "output_type": "execute_result",
          "data": {
            "text/html": [
              "<div>\n",
              "<style scoped>\n",
              "    .dataframe tbody tr th:only-of-type {\n",
              "        vertical-align: middle;\n",
              "    }\n",
              "\n",
              "    .dataframe tbody tr th {\n",
              "        vertical-align: top;\n",
              "    }\n",
              "\n",
              "    .dataframe thead th {\n",
              "        text-align: right;\n",
              "    }\n",
              "</style>\n",
              "<table border=\"1\" class=\"dataframe\">\n",
              "  <thead>\n",
              "    <tr style=\"text-align: right;\">\n",
              "      <th></th>\n",
              "      <th>Utterance</th>\n",
              "      <th>Emotion</th>\n",
              "      <th>emo_num</th>\n",
              "    </tr>\n",
              "  </thead>\n",
              "  <tbody>\n",
              "    <tr>\n",
              "      <td>0</td>\n",
              "      <td>Why do all youre coffee mugs have numbers on ...</td>\n",
              "      <td>surprise</td>\n",
              "      <td>4</td>\n",
              "    </tr>\n",
              "    <tr>\n",
              "      <td>1</td>\n",
              "      <td>Oh. Thats so Monica can keep track. That way ...</td>\n",
              "      <td>anger</td>\n",
              "      <td>2</td>\n",
              "    </tr>\n",
              "    <tr>\n",
              "      <td>2</td>\n",
              "      <td>Y'know what?</td>\n",
              "      <td>neutral</td>\n",
              "      <td>0</td>\n",
              "    </tr>\n",
              "    <tr>\n",
              "      <td>3</td>\n",
              "      <td>Come on, Lydia, you can do it.</td>\n",
              "      <td>neutral</td>\n",
              "      <td>0</td>\n",
              "    </tr>\n",
              "    <tr>\n",
              "      <td>4</td>\n",
              "      <td>Push!</td>\n",
              "      <td>joy</td>\n",
              "      <td>1</td>\n",
              "    </tr>\n",
              "    <tr>\n",
              "      <td>...</td>\n",
              "      <td>...</td>\n",
              "      <td>...</td>\n",
              "      <td>...</td>\n",
              "    </tr>\n",
              "    <tr>\n",
              "      <td>2605</td>\n",
              "      <td>Yeah, I mean, come on Ross, no one will even n...</td>\n",
              "      <td>neutral</td>\n",
              "      <td>0</td>\n",
              "    </tr>\n",
              "    <tr>\n",
              "      <td>2606</td>\n",
              "      <td>They’re not listening too me?</td>\n",
              "      <td>surprise</td>\n",
              "      <td>4</td>\n",
              "    </tr>\n",
              "    <tr>\n",
              "      <td>2607</td>\n",
              "      <td>Of course they’re listening to you! Everybody ...</td>\n",
              "      <td>neutral</td>\n",
              "      <td>0</td>\n",
              "    </tr>\n",
              "    <tr>\n",
              "      <td>2608</td>\n",
              "      <td>Monica you really think I should try this phas...</td>\n",
              "      <td>neutral</td>\n",
              "      <td>0</td>\n",
              "    </tr>\n",
              "    <tr>\n",
              "      <td>2609</td>\n",
              "      <td>I think you look fine.</td>\n",
              "      <td>neutral</td>\n",
              "      <td>0</td>\n",
              "    </tr>\n",
              "  </tbody>\n",
              "</table>\n",
              "<p>2610 rows × 3 columns</p>\n",
              "</div>"
            ],
            "text/plain": [
              "                                              Utterance   Emotion  emo_num\n",
              "0     Why do all youre coffee mugs have numbers on ...  surprise        4\n",
              "1     Oh. Thats so Monica can keep track. That way ...     anger        2\n",
              "2                                          Y'know what?   neutral        0\n",
              "3                        Come on, Lydia, you can do it.   neutral        0\n",
              "4                                                 Push!       joy        1\n",
              "...                                                 ...       ...      ...\n",
              "2605  Yeah, I mean, come on Ross, no one will even n...   neutral        0\n",
              "2606                      They’re not listening too me?  surprise        4\n",
              "2607  Of course they’re listening to you! Everybody ...   neutral        0\n",
              "2608  Monica you really think I should try this phas...   neutral        0\n",
              "2609                             I think you look fine.   neutral        0\n",
              "\n",
              "[2610 rows x 3 columns]"
            ]
          },
          "metadata": {
            "tags": []
          },
          "execution_count": 3
        }
      ]
    },
    {
      "cell_type": "code",
      "metadata": {
        "id": "DrSf4Ic0ycIL",
        "colab_type": "code",
        "colab": {},
        "outputId": "46676ee2-6d9e-46b3-bb44-5b873c6b86b9"
      },
      "source": [
        "#data pre-processing: tokenization\n",
        "data_train['Utterance'] = data_train['Utterance'].apply(lambda x: x.lower())\n",
        "data_train['Utterance'] = data_train['Utterance'].apply(lambda x: re.sub('[^a-zA-Z0-9\\s]', '', x))\n",
        "\n",
        "data_train"
      ],
      "execution_count": null,
      "outputs": [
        {
          "output_type": "stream",
          "text": [
            "/Users/amberwtchang/opt/anaconda3/lib/python3.7/site-packages/ipykernel_launcher.py:2: SettingWithCopyWarning: \n",
            "A value is trying to be set on a copy of a slice from a DataFrame.\n",
            "Try using .loc[row_indexer,col_indexer] = value instead\n",
            "\n",
            "See the caveats in the documentation: http://pandas.pydata.org/pandas-docs/stable/user_guide/indexing.html#returning-a-view-versus-a-copy\n",
            "  \n",
            "/Users/amberwtchang/opt/anaconda3/lib/python3.7/site-packages/ipykernel_launcher.py:3: SettingWithCopyWarning: \n",
            "A value is trying to be set on a copy of a slice from a DataFrame.\n",
            "Try using .loc[row_indexer,col_indexer] = value instead\n",
            "\n",
            "See the caveats in the documentation: http://pandas.pydata.org/pandas-docs/stable/user_guide/indexing.html#returning-a-view-versus-a-copy\n",
            "  This is separate from the ipykernel package so we can avoid doing imports until\n"
          ],
          "name": "stderr"
        },
        {
          "output_type": "execute_result",
          "data": {
            "text/html": [
              "<div>\n",
              "<style scoped>\n",
              "    .dataframe tbody tr th:only-of-type {\n",
              "        vertical-align: middle;\n",
              "    }\n",
              "\n",
              "    .dataframe tbody tr th {\n",
              "        vertical-align: top;\n",
              "    }\n",
              "\n",
              "    .dataframe thead th {\n",
              "        text-align: right;\n",
              "    }\n",
              "</style>\n",
              "<table border=\"1\" class=\"dataframe\">\n",
              "  <thead>\n",
              "    <tr style=\"text-align: right;\">\n",
              "      <th></th>\n",
              "      <th>Utterance</th>\n",
              "      <th>Emotion</th>\n",
              "      <th>emo_num</th>\n",
              "    </tr>\n",
              "  </thead>\n",
              "  <tbody>\n",
              "    <tr>\n",
              "      <td>0</td>\n",
              "      <td>also i was the point person on my companys tra...</td>\n",
              "      <td>neutral</td>\n",
              "      <td>0</td>\n",
              "    </tr>\n",
              "    <tr>\n",
              "      <td>1</td>\n",
              "      <td>you mustve had your hands full</td>\n",
              "      <td>neutral</td>\n",
              "      <td>0</td>\n",
              "    </tr>\n",
              "    <tr>\n",
              "      <td>2</td>\n",
              "      <td>that i did that i did</td>\n",
              "      <td>neutral</td>\n",
              "      <td>0</td>\n",
              "    </tr>\n",
              "    <tr>\n",
              "      <td>3</td>\n",
              "      <td>so lets talk a little bit about your duties</td>\n",
              "      <td>neutral</td>\n",
              "      <td>0</td>\n",
              "    </tr>\n",
              "    <tr>\n",
              "      <td>4</td>\n",
              "      <td>my duties  all right</td>\n",
              "      <td>surprise</td>\n",
              "      <td>4</td>\n",
              "    </tr>\n",
              "    <tr>\n",
              "      <td>...</td>\n",
              "      <td>...</td>\n",
              "      <td>...</td>\n",
              "      <td>...</td>\n",
              "    </tr>\n",
              "    <tr>\n",
              "      <td>9984</td>\n",
              "      <td>you or me</td>\n",
              "      <td>neutral</td>\n",
              "      <td>0</td>\n",
              "    </tr>\n",
              "    <tr>\n",
              "      <td>9985</td>\n",
              "      <td>i got it uh joey women dont have adams apples</td>\n",
              "      <td>neutral</td>\n",
              "      <td>0</td>\n",
              "    </tr>\n",
              "    <tr>\n",
              "      <td>9986</td>\n",
              "      <td>you guys are messing with me right</td>\n",
              "      <td>surprise</td>\n",
              "      <td>4</td>\n",
              "    </tr>\n",
              "    <tr>\n",
              "      <td>9987</td>\n",
              "      <td>yeah</td>\n",
              "      <td>neutral</td>\n",
              "      <td>0</td>\n",
              "    </tr>\n",
              "    <tr>\n",
              "      <td>9988</td>\n",
              "      <td>that was a good one for a second there i was l...</td>\n",
              "      <td>joy</td>\n",
              "      <td>1</td>\n",
              "    </tr>\n",
              "  </tbody>\n",
              "</table>\n",
              "<p>9989 rows × 3 columns</p>\n",
              "</div>"
            ],
            "text/plain": [
              "                                              Utterance   Emotion  emo_num\n",
              "0     also i was the point person on my companys tra...   neutral        0\n",
              "1                        you mustve had your hands full   neutral        0\n",
              "2                                 that i did that i did   neutral        0\n",
              "3           so lets talk a little bit about your duties   neutral        0\n",
              "4                                  my duties  all right  surprise        4\n",
              "...                                                 ...       ...      ...\n",
              "9984                                          you or me   neutral        0\n",
              "9985      i got it uh joey women dont have adams apples   neutral        0\n",
              "9986                 you guys are messing with me right  surprise        4\n",
              "9987                                               yeah   neutral        0\n",
              "9988  that was a good one for a second there i was l...       joy        1\n",
              "\n",
              "[9989 rows x 3 columns]"
            ]
          },
          "metadata": {
            "tags": []
          },
          "execution_count": 4
        }
      ]
    },
    {
      "cell_type": "code",
      "metadata": {
        "id": "HSf0O2kJycIO",
        "colab_type": "code",
        "colab": {},
        "outputId": "6e8d3bfb-349f-4d63-ebb4-135a9d944b8c"
      },
      "source": [
        "#data pre-processing: tokenization\n",
        "data_test['Utterance'] = data_test['Utterance'].apply(lambda x: x.lower())\n",
        "data_test['Utterance'] = data_test['Utterance'].apply(lambda x: re.sub('[^a-zA-Z0-9\\s]', '', x))\n",
        "\n",
        "data_test"
      ],
      "execution_count": null,
      "outputs": [
        {
          "output_type": "stream",
          "text": [
            "/Users/amberwtchang/opt/anaconda3/lib/python3.7/site-packages/ipykernel_launcher.py:2: SettingWithCopyWarning: \n",
            "A value is trying to be set on a copy of a slice from a DataFrame.\n",
            "Try using .loc[row_indexer,col_indexer] = value instead\n",
            "\n",
            "See the caveats in the documentation: http://pandas.pydata.org/pandas-docs/stable/user_guide/indexing.html#returning-a-view-versus-a-copy\n",
            "  \n",
            "/Users/amberwtchang/opt/anaconda3/lib/python3.7/site-packages/ipykernel_launcher.py:3: SettingWithCopyWarning: \n",
            "A value is trying to be set on a copy of a slice from a DataFrame.\n",
            "Try using .loc[row_indexer,col_indexer] = value instead\n",
            "\n",
            "See the caveats in the documentation: http://pandas.pydata.org/pandas-docs/stable/user_guide/indexing.html#returning-a-view-versus-a-copy\n",
            "  This is separate from the ipykernel package so we can avoid doing imports until\n"
          ],
          "name": "stderr"
        },
        {
          "output_type": "execute_result",
          "data": {
            "text/html": [
              "<div>\n",
              "<style scoped>\n",
              "    .dataframe tbody tr th:only-of-type {\n",
              "        vertical-align: middle;\n",
              "    }\n",
              "\n",
              "    .dataframe tbody tr th {\n",
              "        vertical-align: top;\n",
              "    }\n",
              "\n",
              "    .dataframe thead th {\n",
              "        text-align: right;\n",
              "    }\n",
              "</style>\n",
              "<table border=\"1\" class=\"dataframe\">\n",
              "  <thead>\n",
              "    <tr style=\"text-align: right;\">\n",
              "      <th></th>\n",
              "      <th>Utterance</th>\n",
              "      <th>Emotion</th>\n",
              "      <th>emo_num</th>\n",
              "    </tr>\n",
              "  </thead>\n",
              "  <tbody>\n",
              "    <tr>\n",
              "      <td>0</td>\n",
              "      <td>why do all youre coffee mugs have numbers on t...</td>\n",
              "      <td>surprise</td>\n",
              "      <td>4</td>\n",
              "    </tr>\n",
              "    <tr>\n",
              "      <td>1</td>\n",
              "      <td>oh thats so monica can keep track that way if ...</td>\n",
              "      <td>anger</td>\n",
              "      <td>2</td>\n",
              "    </tr>\n",
              "    <tr>\n",
              "      <td>2</td>\n",
              "      <td>yknow what</td>\n",
              "      <td>neutral</td>\n",
              "      <td>0</td>\n",
              "    </tr>\n",
              "    <tr>\n",
              "      <td>3</td>\n",
              "      <td>come on lydia you can do it</td>\n",
              "      <td>neutral</td>\n",
              "      <td>0</td>\n",
              "    </tr>\n",
              "    <tr>\n",
              "      <td>4</td>\n",
              "      <td>push</td>\n",
              "      <td>joy</td>\n",
              "      <td>1</td>\n",
              "    </tr>\n",
              "    <tr>\n",
              "      <td>...</td>\n",
              "      <td>...</td>\n",
              "      <td>...</td>\n",
              "      <td>...</td>\n",
              "    </tr>\n",
              "    <tr>\n",
              "      <td>2605</td>\n",
              "      <td>yeah i mean come on ross no one will even noti...</td>\n",
              "      <td>neutral</td>\n",
              "      <td>0</td>\n",
              "    </tr>\n",
              "    <tr>\n",
              "      <td>2606</td>\n",
              "      <td>theyre not listening too me</td>\n",
              "      <td>surprise</td>\n",
              "      <td>4</td>\n",
              "    </tr>\n",
              "    <tr>\n",
              "      <td>2607</td>\n",
              "      <td>of course theyre listening to you everybody li...</td>\n",
              "      <td>neutral</td>\n",
              "      <td>0</td>\n",
              "    </tr>\n",
              "    <tr>\n",
              "      <td>2608</td>\n",
              "      <td>monica you really think i should try this phas...</td>\n",
              "      <td>neutral</td>\n",
              "      <td>0</td>\n",
              "    </tr>\n",
              "    <tr>\n",
              "      <td>2609</td>\n",
              "      <td>i think you look fine</td>\n",
              "      <td>neutral</td>\n",
              "      <td>0</td>\n",
              "    </tr>\n",
              "  </tbody>\n",
              "</table>\n",
              "<p>2610 rows × 3 columns</p>\n",
              "</div>"
            ],
            "text/plain": [
              "                                              Utterance   Emotion  emo_num\n",
              "0     why do all youre coffee mugs have numbers on t...  surprise        4\n",
              "1     oh thats so monica can keep track that way if ...     anger        2\n",
              "2                                            yknow what   neutral        0\n",
              "3                           come on lydia you can do it   neutral        0\n",
              "4                                                  push       joy        1\n",
              "...                                                 ...       ...      ...\n",
              "2605  yeah i mean come on ross no one will even noti...   neutral        0\n",
              "2606                        theyre not listening too me  surprise        4\n",
              "2607  of course theyre listening to you everybody li...   neutral        0\n",
              "2608  monica you really think i should try this phas...   neutral        0\n",
              "2609                              i think you look fine   neutral        0\n",
              "\n",
              "[2610 rows x 3 columns]"
            ]
          },
          "metadata": {
            "tags": []
          },
          "execution_count": 5
        }
      ]
    },
    {
      "cell_type": "code",
      "metadata": {
        "id": "DIk8_QjTycIR",
        "colab_type": "code",
        "colab": {},
        "outputId": "eed4ca68-4a78-4525-f35c-78a07b8b08dd"
      },
      "source": [
        "#fit data into Tokenizer\n",
        "#use texts_to_sequences to fit it on the Utterance column.\n",
        "#42 = max length in test set (max len in train set = 67)\n",
        "max_features = 2000\n",
        "MAX_SEQUENCE_LENGTH = 42 \n",
        "tokenizer = Tokenizer(num_words = max_features, split = ' ')\n",
        "tokenizer.fit_on_texts(data_train['Utterance'].values)\n",
        "x_train = tokenizer.texts_to_sequences(data_train['Utterance'].values)\n",
        "x_train = pad_sequences(x_train, maxlen=MAX_SEQUENCE_LENGTH)\n",
        "#x_train = pad_sequences(x_train)\n",
        "x_train"
      ],
      "execution_count": null,
      "outputs": [
        {
          "output_type": "execute_result",
          "data": {
            "text/plain": [
              "array([[  0,   0,   0, ...,   3,   4, 862],\n",
              "       [  0,   0,   0, ...,  41, 664, 782],\n",
              "       [  0,   0,   0, ...,   9,   2,  75],\n",
              "       ...,\n",
              "       [  0,   0,   0, ...,  38,  13,  37],\n",
              "       [  0,   0,   0, ...,   0,   0,  21],\n",
              "       [  0,   0,   0, ...,  36,  44, 223]], dtype=int32)"
            ]
          },
          "metadata": {
            "tags": []
          },
          "execution_count": 6
        }
      ]
    },
    {
      "cell_type": "code",
      "metadata": {
        "id": "hbp5AmAnycIU",
        "colab_type": "code",
        "colab": {},
        "outputId": "b37baf15-918d-4583-d6f3-1f14a063988a"
      },
      "source": [
        "#fit data into Tokenizer\n",
        "#use texts_to_sequences to fit it on the Utterance column.\n",
        "#42 = max length in test set (max len in train set = 67)\n",
        "max_features = 2000\n",
        "MAX_SEQUENCE_LENGTH = 42 \n",
        "tokenizer = Tokenizer(num_words = max_features, split = ' ')\n",
        "tokenizer.fit_on_texts(data_test['Utterance'].values)\n",
        "x_test = tokenizer.texts_to_sequences(data_test['Utterance'].values)\n",
        "x_test = pad_sequences(x_test, maxlen=MAX_SEQUENCE_LENGTH)\n",
        "x_test"
      ],
      "execution_count": null,
      "outputs": [
        {
          "output_type": "execute_result",
          "data": {
            "text/plain": [
              "array([[   0,    0,    0, ...,   26,    3,  773],\n",
              "       [   0,    0,    0, ...,  527,  297, 1206],\n",
              "       [   0,    0,    0, ...,    0,   41,   10],\n",
              "       ...,\n",
              "       [   0,    0,    0, ...,  321,    4,    2],\n",
              "       [   0,    0,    0, ...,   17,   46,  133],\n",
              "       [   0,    0,    0, ...,    2,   59,  152]], dtype=int32)"
            ]
          },
          "metadata": {
            "tags": []
          },
          "execution_count": 7
        }
      ]
    },
    {
      "cell_type": "code",
      "metadata": {
        "id": "2tMfRupQycIX",
        "colab_type": "code",
        "colab": {},
        "outputId": "50555057-ca7a-49d8-ed25-f3f1672a0f80"
      },
      "source": [
        "#Since nums of words are different\n",
        "#? what does the num means?\n",
        "X_train = sequence.pad_sequences(x_train)\n",
        "X_test = sequence.pad_sequences(x_test)\n",
        "\n",
        "print('X_train.shape: ', X_train.shape)\n",
        "print('X_train: ', X_train)\n",
        "print('X_test.shape: ', X_test.shape)\n",
        "print('X_test: ', X_test)"
      ],
      "execution_count": null,
      "outputs": [
        {
          "output_type": "stream",
          "text": [
            "X_train.shape:  (9989, 42)\n",
            "X_train:  [[  0   0   0 ...   3   4 862]\n",
            " [  0   0   0 ...  41 664 782]\n",
            " [  0   0   0 ...   9   2  75]\n",
            " ...\n",
            " [  0   0   0 ...  38  13  37]\n",
            " [  0   0   0 ...   0   0  21]\n",
            " [  0   0   0 ...  36  44 223]]\n",
            "X_test.shape:  (2610, 42)\n",
            "X_test:  [[   0    0    0 ...   26    3  773]\n",
            " [   0    0    0 ...  527  297 1206]\n",
            " [   0    0    0 ...    0   41   10]\n",
            " ...\n",
            " [   0    0    0 ...  321    4    2]\n",
            " [   0    0    0 ...   17   46  133]\n",
            " [   0    0    0 ...    2   59  152]]\n"
          ],
          "name": "stdout"
        }
      ]
    },
    {
      "cell_type": "code",
      "metadata": {
        "id": "YT-4Utd3ycIZ",
        "colab_type": "code",
        "colab": {},
        "outputId": "d6fe6da3-4f1c-41ad-95e5-f9837c8c39d3"
      },
      "source": [
        "embedding_vector_length = 32\n",
        "#get one-hot vector\n",
        "train_y = pd.get_dummies(data_train['emo_num']).values\n",
        "test_y = pd.get_dummies(data_test['emo_num']).values\n",
        "\n",
        "print('Shape of label tensor:', train_y.shape)\n",
        "print('Train label tensor:', train_y)\n",
        "print('Shape of label tensor:', test_y.shape)\n",
        "print('Test label tensor:', test_y)\n",
        "print(type(train_y))\n",
        "\n"
      ],
      "execution_count": null,
      "outputs": [
        {
          "output_type": "stream",
          "text": [
            "Shape of label tensor: (9989, 7)\n",
            "Train label tensor: [[1 0 0 ... 0 0 0]\n",
            " [1 0 0 ... 0 0 0]\n",
            " [1 0 0 ... 0 0 0]\n",
            " ...\n",
            " [0 0 0 ... 1 0 0]\n",
            " [1 0 0 ... 0 0 0]\n",
            " [0 1 0 ... 0 0 0]]\n",
            "Shape of label tensor: (2610, 7)\n",
            "Test label tensor: [[0 0 0 ... 1 0 0]\n",
            " [0 0 1 ... 0 0 0]\n",
            " [1 0 0 ... 0 0 0]\n",
            " ...\n",
            " [1 0 0 ... 0 0 0]\n",
            " [1 0 0 ... 0 0 0]\n",
            " [1 0 0 ... 0 0 0]]\n",
            "<class 'numpy.ndarray'>\n"
          ],
          "name": "stdout"
        }
      ]
    },
    {
      "cell_type": "code",
      "metadata": {
        "id": "bqv2dzemycIc",
        "colab_type": "code",
        "colab": {}
      },
      "source": [
        "#create LSTM model\n",
        "#The model will use adam as the optimizer.?\n",
        "model = Sequential()\n",
        "#This layer has 32 length vectors that represent each word, according to X_train.shape\n",
        "model.add(Embedding(max_features, 32 , input_length = X_train.shape[1]))\n",
        "#SpatialDropout1D performs variational dropout in NLP models.\n",
        "#model.add(SpatialDropout1D(0.2))\n",
        "#The next layer is the LSTM layer which has 200 memory units (can be increased if necessary).\n",
        "model.add(LSTM(50, dropout=0.2))\n",
        "\n",
        "#model.add(Dense(128, activation = 'relu'))\n",
        "\n",
        "model.add(Dense(7, activation = 'softmax'))\n"
      ],
      "execution_count": null,
      "outputs": []
    },
    {
      "cell_type": "code",
      "metadata": {
        "id": "JOj45qxJycIe",
        "colab_type": "code",
        "colab": {},
        "outputId": "27b16042-d0a3-4941-8624-621d60f9261e"
      },
      "source": [
        "#keras precision, recall, f1, micro\n",
        "from keras import backend as K\n",
        "\n",
        "def recall_m(y_true, y_pred):\n",
        "    true_positives = K.sum(K.round(K.clip(y_true * y_pred, 0, 1)))\n",
        "    possible_positives = K.sum(K.round(K.clip(y_true, 0, 1)))\n",
        "    recall = true_positives / (possible_positives + K.epsilon())\n",
        "    return recall\n",
        "\n",
        "def precision_m(y_true, y_pred):\n",
        "    true_positives = K.sum(K.round(K.clip(y_true * y_pred, 0, 1)))\n",
        "    predicted_positives = K.sum(K.round(K.clip(y_pred, 0, 1)))\n",
        "    precision = true_positives / (predicted_positives + K.epsilon())\n",
        "    return precision\n",
        "\n",
        "def f1_m(y_true, y_pred):\n",
        "    precision = precision_m(y_true, y_pred)\n",
        "    recall = recall_m(y_true, y_pred)\n",
        "    f1m = 2*((precision*recall)/(precision+recall+K.epsilon()))\n",
        "    print(f1m)\n",
        "    return 2*((precision*recall)/(precision+recall+K.epsilon()))\n",
        "\n",
        "model.summary()\n",
        "model.compile(optimizer='adam', loss='categorical_crossentropy', metrics=['acc', f1_m, precision_m, recall_m])"
      ],
      "execution_count": null,
      "outputs": [
        {
          "output_type": "stream",
          "text": [
            "Model: \"sequential_1\"\n",
            "_________________________________________________________________\n",
            "Layer (type)                 Output Shape              Param #   \n",
            "=================================================================\n",
            "embedding_1 (Embedding)      (None, 42, 32)            64000     \n",
            "_________________________________________________________________\n",
            "lstm_1 (LSTM)                (None, 50)                16600     \n",
            "_________________________________________________________________\n",
            "dense_1 (Dense)              (None, 7)                 357       \n",
            "=================================================================\n",
            "Total params: 80,957\n",
            "Trainable params: 80,957\n",
            "Non-trainable params: 0\n",
            "_________________________________________________________________\n",
            "Tensor(\"metrics/f1_m/mul_3:0\", shape=(), dtype=float32)\n"
          ],
          "name": "stdout"
        }
      ]
    },
    {
      "cell_type": "markdown",
      "metadata": {
        "id": "ksiyfPa8ycIh",
        "colab_type": "text"
      },
      "source": [
        "# compile the model\n",
        "model.compile(optimizer='adam', loss='categorical_crossentropy', metrics=['acc'])\n",
        "model.summary()"
      ]
    },
    {
      "cell_type": "code",
      "metadata": {
        "id": "0S_i7orEycIh",
        "colab_type": "code",
        "colab": {},
        "outputId": "634bdcd7-ece6-4061-b492-dc83d1586a58"
      },
      "source": [
        "# fit the model\n",
        "epochs = 3\n",
        "batch_size = 32\n",
        "#history = model.fit(X_train, train_y, validation_split=0.3, epochs=epochs, batch_size=batch_size)\n",
        "history = model.fit(X_train, train_y, validation_data=(X_test, test_y), epochs=epochs, batch_size=batch_size)"
      ],
      "execution_count": null,
      "outputs": [
        {
          "output_type": "stream",
          "text": [
            "Train on 9989 samples, validate on 2610 samples\n",
            "Epoch 1/3\n",
            "9989/9989 [==============================] - 47s 5ms/step - loss: 0.9312 - acc: 0.6725 - f1_m: 0.6488 - precision_m: 0.7552 - recall_m: 0.5716 - val_loss: 2.1163 - val_acc: 0.3797 - val_f1_m: 0.3528 - val_precision_m: 0.4047 - val_recall_m: 0.3142\n",
            "Epoch 2/3\n",
            "9989/9989 [==============================] - 49s 5ms/step - loss: 0.9065 - acc: 0.6758 - f1_m: 0.6548 - precision_m: 0.7533 - recall_m: 0.5821 - val_loss: 2.1339 - val_acc: 0.3824 - val_f1_m: 0.3581 - val_precision_m: 0.4073 - val_recall_m: 0.3210\n",
            "Epoch 3/3\n",
            "9989/9989 [==============================] - 65s 6ms/step - loss: 0.8816 - acc: 0.6871 - f1_m: 0.6655 - precision_m: 0.7634 - recall_m: 0.5922 - val_loss: 2.2563 - val_acc: 0.3682 - val_f1_m: 0.3427 - val_precision_m: 0.3907 - val_recall_m: 0.3067\n"
          ],
          "name": "stdout"
        }
      ]
    },
    {
      "cell_type": "code",
      "metadata": {
        "id": "0BdjYdPaycIk",
        "colab_type": "code",
        "colab": {},
        "outputId": "3bd17429-8666-4bc5-9528-fbfefdfbce73"
      },
      "source": [
        "#evaluate the model with f1_score, precision, recall = model.evaluate(X_test, test_y, verbose=0)\n",
        "train_results = model.evaluate(X_train, train_y)\n",
        "test_results = model.evaluate(X_test, test_y)\n",
        "print('train results: loss, acc, f1, pre, recall ', train_results)\n",
        "print('test results: loss, acc, f1, pre, recall ', test_results)"
      ],
      "execution_count": null,
      "outputs": [
        {
          "output_type": "stream",
          "text": [
            "9989/9989 [==============================] - 26s 3ms/step\n",
            "2610/2610 [==============================] - 5s 2ms/step\n",
            "train results: loss, acc, f1, pre, recall  [0.7831307011021068, 0.7268995642662048, 0.7142184972763062, 0.7898290157318115, 0.6540734767913818]\n",
            "test results: loss, acc, f1, pre, recall  [2.256326463578761, 0.3681992292404175, 0.3426573574542999, 0.3907017707824707, 0.30665650963783264]\n"
          ],
          "name": "stdout"
        }
      ]
    },
    {
      "cell_type": "code",
      "metadata": {
        "id": "n7DHvi_5ycIn",
        "colab_type": "code",
        "colab": {},
        "outputId": "8a896191-18bd-4860-8bdf-234b528cfd50"
      },
      "source": [
        "from sklearn.metrics import classification_report\n",
        "y_pred = model.predict(X_test, batch_size = 32)\n",
        "\n",
        "for i in range(len(y_pred)):\n",
        "        max_value=max(y_pred[i])\n",
        "        for j in range(len(y_pred[i])):\n",
        "            if max_value==y_pred[i][j]:\n",
        "                y_pred[i][j]=1\n",
        "            else:\n",
        "                y_pred[i][j]=0\n",
        "\n",
        "print(classification_report(test_y, y_pred))\n"
      ],
      "execution_count": null,
      "outputs": [
        {
          "output_type": "stream",
          "text": [
            "              precision    recall  f1-score   support\n",
            "\n",
            "           0       0.50      0.65      0.57      1256\n",
            "           1       0.15      0.14      0.14       402\n",
            "           2       0.20      0.10      0.13       345\n",
            "           3       0.07      0.05      0.06       208\n",
            "           4       0.18      0.16      0.17       281\n",
            "           5       0.06      0.03      0.04        68\n",
            "           6       0.00      0.00      0.00        50\n",
            "\n",
            "   micro avg       0.37      0.37      0.37      2610\n",
            "   macro avg       0.17      0.16      0.16      2610\n",
            "weighted avg       0.32      0.37      0.34      2610\n",
            " samples avg       0.37      0.37      0.37      2610\n",
            "\n"
          ],
          "name": "stdout"
        }
      ]
    },
    {
      "cell_type": "code",
      "metadata": {
        "id": "DkRzgzUBycIp",
        "colab_type": "code",
        "colab": {},
        "outputId": "984065a5-ed4d-42b0-9b0f-e12669d1c258"
      },
      "source": [
        "from sklearn.metrics import classification_report\n",
        "y_pred = model.predict(X_train, batch_size = 32)\n",
        "\n",
        "for i in range(len(y_pred)):\n",
        "        max_value=max(y_pred[i])\n",
        "        for j in range(len(y_pred[i])):\n",
        "            if max_value==y_pred[i][j]:\n",
        "                y_pred[i][j]=1\n",
        "            else:\n",
        "                y_pred[i][j]=0\n",
        "\n",
        "print(classification_report(train_y, y_pred))\n"
      ],
      "execution_count": null,
      "outputs": [
        {
          "output_type": "stream",
          "text": [
            "              precision    recall  f1-score   support\n",
            "\n",
            "           0       0.71      0.91      0.80      4710\n",
            "           1       0.78      0.57      0.66      1743\n",
            "           2       0.72      0.49      0.59      1109\n",
            "           3       0.68      0.63      0.66       683\n",
            "           4       0.75      0.66      0.70      1205\n",
            "           5       0.79      0.49      0.60       271\n",
            "           6       0.73      0.26      0.38       268\n",
            "\n",
            "   micro avg       0.73      0.73      0.73      9989\n",
            "   macro avg       0.74      0.57      0.63      9989\n",
            "weighted avg       0.73      0.73      0.71      9989\n",
            " samples avg       0.73      0.73      0.73      9989\n",
            "\n"
          ],
          "name": "stdout"
        }
      ]
    },
    {
      "cell_type": "code",
      "metadata": {
        "id": "Ce7sOm6aycIr",
        "colab_type": "code",
        "colab": {}
      },
      "source": [
        "from sklearn.metrics import f1_score, precision_score, recall_score, confusion_matrix\n",
        "y_pred1 = model.predict(X_test)\n",
        "y_pred = np.argmax(y_pred1, axis=1)\n",
        "\n",
        "# Print f1, precision, and recall scores\n",
        "print(precision_score(y_test, y_pred , average=\"macro\"))\n",
        "print(recall_score(y_test, y_pred , average=\"macro\"))\n",
        "print(f1_score(y_test, y_pred , average=\"macro\"))"
      ],
      "execution_count": null,
      "outputs": []
    },
    {
      "cell_type": "markdown",
      "metadata": {
        "id": "34gOpvWiycIt",
        "colab_type": "text"
      },
      "source": [
        "from sklearn.metrics import classification_report\n",
        "#labels: {neutral:0, joy:1, anger:2, sadness:3, surprise:4, disgust:5, fear:6}\n",
        "\n",
        "y_true = [0, 1, 2, 2, 2]\n",
        "y_pred = [0, 0, 2, 2, 1]\n",
        "target_names = ['class 0', 'class 1', 'class 2']\n",
        "#target_names = ['neutral', 'joy', 'anger', 'sadness', 'surprise', 'disgust', 'fear']\n",
        "report = classification_report(y_true, y_pred, target_names=target_names)\n",
        "print(report)\n",
        "\n"
      ]
    },
    {
      "cell_type": "markdown",
      "metadata": {
        "id": "OlvGbD2kycIt",
        "colab_type": "text"
      },
      "source": [
        "\n",
        "from sklearn.metrics import f1_score, precision_score, recall_score, confusion_matrix\n",
        "\n",
        "print(X_test)\n",
        "y_pred1 = model.predict(X_test)\n",
        "print('y_pred1: ', y_pred1)\n",
        "y_pred = np.argmax(y_pred1, axis=1)\n",
        "print('y_pred: ', y_pred)\n",
        "\n",
        "#print(precision_score(test_y, y_pred , average='macro'))\n",
        "#print(recall_score(test_y, y_pred , average='macro'))\n",
        "#print(f1_score(test_y, y_pred , average='macro'))\n",
        "\n"
      ]
    },
    {
      "cell_type": "markdown",
      "metadata": {
        "id": "Jjt7o_ciycIt",
        "colab_type": "text"
      },
      "source": [
        "from sklearn.metrics import confusion_matrix, f1_score, accuracy_score, precision_recall_fscore_support\n",
        "\n",
        "def normal_f1(y_true, y_pred):\n",
        "    normal_f1 = sklearn.metrics.f1_score(y_true, y_pred, average='None')\n",
        "    score = precision_recall_fscore_support(y_true, y_pred)\n",
        "    return nor_f1"
      ]
    },
    {
      "cell_type": "code",
      "metadata": {
        "id": "-_LOxKTTycIu",
        "colab_type": "code",
        "colab": {},
        "outputId": "40cd1b17-884c-4ad6-9683-e1afd98073f9"
      },
      "source": [
        "plt.title('Loss')\n",
        "plt.plot(history.history['loss'], label='train')\n",
        "plt.plot(history.history['val_loss'], label='test')\n",
        "plt.legend()\n",
        "plt.show();"
      ],
      "execution_count": null,
      "outputs": [
        {
          "output_type": "display_data",
          "data": {
            "image/png": "[encoded data removed]",
            "text/plain": [
              "<Figure size 432x288 with 1 Axes>"
            ]
          },
          "metadata": {
            "tags": [],
            "needs_background": "light"
          }
        }
      ]
    },
    {
      "cell_type": "code",
      "metadata": {
        "id": "peESfg3NycIw",
        "colab_type": "code",
        "colab": {},
        "outputId": "070a4077-8e2a-48d1-92ea-eae6995725a4"
      },
      "source": [
        "accr = model.evaluate(X_test,test_y)\n",
        "print('Test set\\n  Loss: {:0.3f}\\n  Accuracy: {:0.3f}'.format(accr[0],accr[1]))"
      ],
      "execution_count": null,
      "outputs": [
        {
          "output_type": "stream",
          "text": [
            "2610/2610 [==============================] - 9s 3ms/step\n",
            "Test set\n",
            "  Loss: 1.600\n",
            "  Accuracy: 0.453\n"
          ],
          "name": "stdout"
        }
      ]
    },
    {
      "cell_type": "code",
      "metadata": {
        "id": "HRQ84ByNycIy",
        "colab_type": "code",
        "colab": {},
        "outputId": "24cbc04f-9605-4989-eb1a-e657a255f086"
      },
      "source": [
        "plt.title('Accuracy')\n",
        "plt.plot(history.history['acc'], label='train')\n",
        "plt.plot(history.history['val_acc'], label='test')\n",
        "plt.legend()\n",
        "plt.show();"
      ],
      "execution_count": null,
      "outputs": [
        {
          "output_type": "error",
          "ename": "AttributeError",
          "evalue": "'list' object has no attribute 'history'",
          "traceback": [
            "\u001b[0;31m---------------------------------------------------------------------------\u001b[0m",
            "\u001b[0;31mAttributeError\u001b[0m                            Traceback (most recent call last)",
            "\u001b[0;32m<ipython-input-40-652c9934bc45>\u001b[0m in \u001b[0;36m<module>\u001b[0;34m\u001b[0m\n\u001b[1;32m      1\u001b[0m \u001b[0mplt\u001b[0m\u001b[0;34m.\u001b[0m\u001b[0mtitle\u001b[0m\u001b[0;34m(\u001b[0m\u001b[0;34m'Accuracy'\u001b[0m\u001b[0;34m)\u001b[0m\u001b[0;34m\u001b[0m\u001b[0;34m\u001b[0m\u001b[0m\n\u001b[0;32m----> 2\u001b[0;31m \u001b[0mplt\u001b[0m\u001b[0;34m.\u001b[0m\u001b[0mplot\u001b[0m\u001b[0;34m(\u001b[0m\u001b[0mhistory\u001b[0m\u001b[0;34m.\u001b[0m\u001b[0mhistory\u001b[0m\u001b[0;34m[\u001b[0m\u001b[0;34m'acc'\u001b[0m\u001b[0;34m]\u001b[0m\u001b[0;34m,\u001b[0m \u001b[0mlabel\u001b[0m\u001b[0;34m=\u001b[0m\u001b[0;34m'train'\u001b[0m\u001b[0;34m)\u001b[0m\u001b[0;34m\u001b[0m\u001b[0;34m\u001b[0m\u001b[0m\n\u001b[0m\u001b[1;32m      3\u001b[0m \u001b[0mplt\u001b[0m\u001b[0;34m.\u001b[0m\u001b[0mplot\u001b[0m\u001b[0;34m(\u001b[0m\u001b[0mhistory\u001b[0m\u001b[0;34m.\u001b[0m\u001b[0mhistory\u001b[0m\u001b[0;34m[\u001b[0m\u001b[0;34m'val_acc'\u001b[0m\u001b[0;34m]\u001b[0m\u001b[0;34m,\u001b[0m \u001b[0mlabel\u001b[0m\u001b[0;34m=\u001b[0m\u001b[0;34m'test'\u001b[0m\u001b[0;34m)\u001b[0m\u001b[0;34m\u001b[0m\u001b[0;34m\u001b[0m\u001b[0m\n\u001b[1;32m      4\u001b[0m \u001b[0mplt\u001b[0m\u001b[0;34m.\u001b[0m\u001b[0mlegend\u001b[0m\u001b[0;34m(\u001b[0m\u001b[0;34m)\u001b[0m\u001b[0;34m\u001b[0m\u001b[0;34m\u001b[0m\u001b[0m\n\u001b[1;32m      5\u001b[0m \u001b[0mplt\u001b[0m\u001b[0;34m.\u001b[0m\u001b[0mshow\u001b[0m\u001b[0;34m(\u001b[0m\u001b[0;34m)\u001b[0m\u001b[0;34m;\u001b[0m\u001b[0;34m\u001b[0m\u001b[0;34m\u001b[0m\u001b[0m\n",
            "\u001b[0;31mAttributeError\u001b[0m: 'list' object has no attribute 'history'"
          ]
        },
        {
          "output_type": "display_data",
          "data": {
            "image/png": "[encoded data removed]",
            "text/plain": [
              "<Figure size 432x288 with 1 Axes>"
            ]
          },
          "metadata": {
            "tags": [],
            "needs_background": "light"
          }
        }
      ]
    },
    {
      "cell_type": "code",
      "metadata": {
        "id": "n4uFdiYNycI0",
        "colab_type": "code",
        "colab": {},
        "outputId": "a107cc10-51d6-4fee-a38c-2ec9dc9860d3"
      },
      "source": [
        "#time to test emotion of new dialog \n",
        "#new_friends_dialog = [\"There's just so much pressure.\"]\n",
        "#new_friends_dialog = [\"I'm so happy now.\"]\n",
        "new_friends_dialog = [\"This function transforms a list of num_samples sequences (lists of integers) into a 2D Numpy array of shape (num_samples, num_timesteps). num_timesteps is either the maxlen argument i\"]\n",
        "seq = tokenizer.texts_to_sequences(new_friends_dialog)\n",
        "padded = pad_sequences(seq, maxlen=MAX_SEQUENCE_LENGTH)\n",
        "pred = model.predict(padded)\n",
        "labels = ['neutral', 'joy', 'anger', 'sadness', 'fear', 'disgust', 'surprise']\n",
        "print(pred, labels[np.argmax(pred)])"
      ],
      "execution_count": null,
      "outputs": [
        {
          "output_type": "stream",
          "text": [
            "[[0.54177827 0.1511546  0.11613991 0.07464378 0.05783507 0.02818299\n",
            "  0.03026529]] neutral\n"
          ],
          "name": "stdout"
        }
      ]
    },
    {
      "cell_type": "code",
      "metadata": {
        "id": "hxnPNR8cycI3",
        "colab_type": "code",
        "colab": {}
      },
      "source": [
        ""
      ],
      "execution_count": null,
      "outputs": []
    },
    {
      "cell_type": "code",
      "metadata": {
        "id": "IQMixdRjycI5",
        "colab_type": "code",
        "colab": {},
        "outputId": "db5efd7b-47b5-4882-f012-27614fd2b712"
      },
      "source": [
        "#former\n",
        "model.summary()\n",
        "epochs = 5\n",
        "batch_size = 32\n",
        "history = model.fit(X_train, train_y, epochs=epochs, batch_size=batch_size,validation_split=0.1)\n",
        "#history = model.fit(X_train, train_y, epochs=epochs, batch_size=batch_size,validation_split=0.1,callbacks=[EarlyStopping(monitor='val_loss', patience=3, min_delta=0.0001)])\n",
        "\n"
      ],
      "execution_count": null,
      "outputs": [
        {
          "output_type": "stream",
          "text": [
            "Model: \"sequential_2\"\n",
            "_________________________________________________________________\n",
            "Layer (type)                 Output Shape              Param #   \n",
            "=================================================================\n",
            "embedding_2 (Embedding)      (None, 42, 32)            64000     \n",
            "_________________________________________________________________\n",
            "lstm_2 (LSTM)                (None, 50)                16600     \n",
            "_________________________________________________________________\n",
            "dense_2 (Dense)              (None, 7)                 357       \n",
            "=================================================================\n",
            "Total params: 80,957\n",
            "Trainable params: 80,957\n",
            "Non-trainable params: 0\n",
            "_________________________________________________________________\n"
          ],
          "name": "stdout"
        },
        {
          "output_type": "stream",
          "text": [
            "/Users/amberwtchang/opt/anaconda3/lib/python3.7/site-packages/tensorflow_core/python/framework/indexed_slices.py:424: UserWarning: Converting sparse IndexedSlices to a dense Tensor of unknown shape. This may consume a large amount of memory.\n",
            "  \"Converting sparse IndexedSlices to a dense Tensor of unknown shape. \"\n"
          ],
          "name": "stderr"
        },
        {
          "output_type": "stream",
          "text": [
            "Train on 8990 samples, validate on 999 samples\n",
            "Epoch 1/5\n",
            "8990/8990 [==============================] - 44s 5ms/step - loss: 1.5479 - accuracy: 0.4699 - val_loss: 1.5340 - val_accuracy: 0.4595\n",
            "Epoch 2/5\n",
            "8990/8990 [==============================] - 45s 5ms/step - loss: 1.4349 - accuracy: 0.4949 - val_loss: 1.4609 - val_accuracy: 0.4785\n",
            "Epoch 3/5\n",
            "8990/8990 [==============================] - 43s 5ms/step - loss: 1.3318 - accuracy: 0.5273 - val_loss: 1.4229 - val_accuracy: 0.4965\n",
            "Epoch 4/5\n",
            "8990/8990 [==============================] - 38s 4ms/step - loss: 1.2616 - accuracy: 0.5565 - val_loss: 1.4380 - val_accuracy: 0.4835\n",
            "Epoch 5/5\n",
            "8990/8990 [==============================] - 42s 5ms/step - loss: 1.2047 - accuracy: 0.5770 - val_loss: 1.4522 - val_accuracy: 0.4935\n"
          ],
          "name": "stdout"
        }
      ]
    }
  ]
}