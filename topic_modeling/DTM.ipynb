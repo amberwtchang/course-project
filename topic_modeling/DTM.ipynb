{
 "cells": [
  {
   "cell_type": "code",
   "execution_count": 15,
   "metadata": {},
   "outputs": [
    {
     "name": "stderr",
     "output_type": "stream",
     "text": [
      "/Users/amberwtchang/opt/anaconda3/lib/python3.7/site-packages/nltk/decorators.py:68: DeprecationWarning: `formatargspec` is deprecated since Python 3.5. Use `signature` and the `Signature` object directly\n",
      "  regargs, varargs, varkwargs, defaults, formatvalue=lambda value: \"\"\n",
      "/Users/amberwtchang/opt/anaconda3/lib/python3.7/site-packages/nltk/lm/counter.py:15: DeprecationWarning: Using or importing the ABCs from 'collections' instead of from 'collections.abc' is deprecated, and in 3.8 it will stop working\n",
      "  from collections import Sequence, defaultdict\n"
     ]
    }
   ],
   "source": [
    "import numpy as np\n",
    "import pandas as pd\n",
    "import re, nltk, gensim #spacy"
   ]
  },
  {
   "cell_type": "code",
   "execution_count": 11,
   "metadata": {},
   "outputs": [],
   "source": [
    "# setting up our imports\n",
    "from gensim.models import ldaseqmodel\n",
    "from gensim.corpora import Dictionary, bleicorpus\n",
    "import numpy\n",
    "from gensim.matutils import hellinger"
   ]
  },
  {
   "cell_type": "code",
   "execution_count": null,
   "metadata": {},
   "outputs": [],
   "source": []
  },
  {
   "cell_type": "code",
   "execution_count": 49,
   "metadata": {},
   "outputs": [
    {
     "data": {
      "text/html": [
       "<div>\n",
       "<style scoped>\n",
       "    .dataframe tbody tr th:only-of-type {\n",
       "        vertical-align: middle;\n",
       "    }\n",
       "\n",
       "    .dataframe tbody tr th {\n",
       "        vertical-align: top;\n",
       "    }\n",
       "\n",
       "    .dataframe thead th {\n",
       "        text-align: right;\n",
       "    }\n",
       "</style>\n",
       "<table border=\"1\" class=\"dataframe\">\n",
       "  <thead>\n",
       "    <tr style=\"text-align: right;\">\n",
       "      <th></th>\n",
       "      <th>Pmid</th>\n",
       "      <th>Year</th>\n",
       "      <th>Title</th>\n",
       "      <th>Abstract</th>\n",
       "      <th>Keywords</th>\n",
       "      <th>norm_tiabs</th>\n",
       "      <th>Month</th>\n",
       "      <th>Date</th>\n",
       "    </tr>\n",
       "  </thead>\n",
       "  <tbody>\n",
       "    <tr>\n",
       "      <td>0</td>\n",
       "      <td>32857764</td>\n",
       "      <td>2020</td>\n",
       "      <td>[Translesion synthesis by AMV, HIV, and MMLVre...</td>\n",
       "      <td>[Inosine is ubiquitous and essential in many b...</td>\n",
       "      <td>[]</td>\n",
       "      <td>Translesion synthesis by AMV, HIV, and MMLVrev...</td>\n",
       "      <td>8</td>\n",
       "      <td>1596240000000</td>\n",
       "    </tr>\n",
       "    <tr>\n",
       "      <td>1</td>\n",
       "      <td>32849762</td>\n",
       "      <td>2020</td>\n",
       "      <td>[LROD: An Overlap Detection Algorithm for Long...</td>\n",
       "      <td>[Third-generation sequencing technologies can ...</td>\n",
       "      <td>[[alignment], [k-mer distribution], [long read...</td>\n",
       "      <td>LROD: An Overlap Detection Algorithm for Long ...</td>\n",
       "      <td>8</td>\n",
       "      <td>1596240000000</td>\n",
       "    </tr>\n",
       "    <tr>\n",
       "      <td>2</td>\n",
       "      <td>32849463</td>\n",
       "      <td>2020</td>\n",
       "      <td>[Analytical Performance Validation of Next-Gen...</td>\n",
       "      <td>[Next-generation sequencing (NGS) enables clin...</td>\n",
       "      <td>[[antimicrobial resistance], [human pathogens]...</td>\n",
       "      <td>Analytical Performance Validation of Next-Gene...</td>\n",
       "      <td>8</td>\n",
       "      <td>1596240000000</td>\n",
       "    </tr>\n",
       "    <tr>\n",
       "      <td>3</td>\n",
       "      <td>32843552</td>\n",
       "      <td>2020</td>\n",
       "      <td>[A Genome-Based Model to Predict the Virulence...</td>\n",
       "      <td>[Variation in the genome of Pseudomonas aerugi...</td>\n",
       "      <td>[[], [genome analysis], [machine learning], [m...</td>\n",
       "      <td>A Genome-Based Model to Predict the Virulence ...</td>\n",
       "      <td>8</td>\n",
       "      <td>1596240000000</td>\n",
       "    </tr>\n",
       "    <tr>\n",
       "      <td>4</td>\n",
       "      <td>32838395</td>\n",
       "      <td>2020</td>\n",
       "      <td>[The world should establish an early warning s...</td>\n",
       "      <td>[With the emergence of several new epidemics o...</td>\n",
       "      <td>[]</td>\n",
       "      <td>The world should establish an early warning sy...</td>\n",
       "      <td>8</td>\n",
       "      <td>1596240000000</td>\n",
       "    </tr>\n",
       "    <tr>\n",
       "      <td>...</td>\n",
       "      <td>...</td>\n",
       "      <td>...</td>\n",
       "      <td>...</td>\n",
       "      <td>...</td>\n",
       "      <td>...</td>\n",
       "      <td>...</td>\n",
       "      <td>...</td>\n",
       "      <td>...</td>\n",
       "    </tr>\n",
       "    <tr>\n",
       "      <td>67963</td>\n",
       "      <td>28309716</td>\n",
       "      <td>2020</td>\n",
       "      <td>[Shallow water meiobenthos of the bermuda plat...</td>\n",
       "      <td>[The distribution and abundance of subtidal me...</td>\n",
       "      <td>[]</td>\n",
       "      <td>Shallow water meiobenthos of the bermuda platf...</td>\n",
       "      <td>4</td>\n",
       "      <td>1585699200000</td>\n",
       "    </tr>\n",
       "    <tr>\n",
       "      <td>67964</td>\n",
       "      <td>5504579</td>\n",
       "      <td>1971</td>\n",
       "      <td>[Fats in fresh water crustaceans. I. Fatty aci...</td>\n",
       "      <td>[]</td>\n",
       "      <td>[]</td>\n",
       "      <td>Fats in fresh water crustaceans. I. Fatty acid...</td>\n",
       "      <td>5</td>\n",
       "      <td>41904000000</td>\n",
       "    </tr>\n",
       "    <tr>\n",
       "      <td>67965</td>\n",
       "      <td>28304606</td>\n",
       "      <td>2019</td>\n",
       "      <td>[[Patterns of differentiation of medusae buds ...</td>\n",
       "      <td>[1. The normal development of medusa ofPodocor...</td>\n",
       "      <td>[]</td>\n",
       "      <td>[Patterns of differentiation of medusae buds a...</td>\n",
       "      <td>11</td>\n",
       "      <td>1572566400000</td>\n",
       "    </tr>\n",
       "    <tr>\n",
       "      <td>67966</td>\n",
       "      <td>14325028</td>\n",
       "      <td>1996</td>\n",
       "      <td>[THE ADULT AND LARVAL MORPHOLOGY AND LIFE HIST...</td>\n",
       "      <td>[]</td>\n",
       "      <td>[[ANATOMY], [BRYOZOA], [EMBRYOLOGY], [EXPERIME...</td>\n",
       "      <td>THE ADULT AND LARVAL MORPHOLOGY AND LIFE HISTO...</td>\n",
       "      <td>12</td>\n",
       "      <td>849398400000</td>\n",
       "    </tr>\n",
       "    <tr>\n",
       "      <td>67967</td>\n",
       "      <td>17835507</td>\n",
       "      <td>2010</td>\n",
       "      <td>[THE WORK OF THE &amp;quot;MICHAEL SARS&amp;quot; IN T...</td>\n",
       "      <td>[]</td>\n",
       "      <td>[]</td>\n",
       "      <td>THE WORK OF THE &amp;quot;MICHAEL SARS&amp;quot; IN TH...</td>\n",
       "      <td>7</td>\n",
       "      <td>1277942400000</td>\n",
       "    </tr>\n",
       "  </tbody>\n",
       "</table>\n",
       "<p>67968 rows × 8 columns</p>\n",
       "</div>"
      ],
      "text/plain": [
       "           Pmid  Year                                              Title  \\\n",
       "0      32857764  2020  [Translesion synthesis by AMV, HIV, and MMLVre...   \n",
       "1      32849762  2020  [LROD: An Overlap Detection Algorithm for Long...   \n",
       "2      32849463  2020  [Analytical Performance Validation of Next-Gen...   \n",
       "3      32843552  2020  [A Genome-Based Model to Predict the Virulence...   \n",
       "4      32838395  2020  [The world should establish an early warning s...   \n",
       "...         ...   ...                                                ...   \n",
       "67963  28309716  2020  [Shallow water meiobenthos of the bermuda plat...   \n",
       "67964   5504579  1971  [Fats in fresh water crustaceans. I. Fatty aci...   \n",
       "67965  28304606  2019  [[Patterns of differentiation of medusae buds ...   \n",
       "67966  14325028  1996  [THE ADULT AND LARVAL MORPHOLOGY AND LIFE HIST...   \n",
       "67967  17835507  2010  [THE WORK OF THE &quot;MICHAEL SARS&quot; IN T...   \n",
       "\n",
       "                                                Abstract  \\\n",
       "0      [Inosine is ubiquitous and essential in many b...   \n",
       "1      [Third-generation sequencing technologies can ...   \n",
       "2      [Next-generation sequencing (NGS) enables clin...   \n",
       "3      [Variation in the genome of Pseudomonas aerugi...   \n",
       "4      [With the emergence of several new epidemics o...   \n",
       "...                                                  ...   \n",
       "67963  [The distribution and abundance of subtidal me...   \n",
       "67964                                                 []   \n",
       "67965  [1. The normal development of medusa ofPodocor...   \n",
       "67966                                                 []   \n",
       "67967                                                 []   \n",
       "\n",
       "                                                Keywords  \\\n",
       "0                                                     []   \n",
       "1      [[alignment], [k-mer distribution], [long read...   \n",
       "2      [[antimicrobial resistance], [human pathogens]...   \n",
       "3      [[], [genome analysis], [machine learning], [m...   \n",
       "4                                                     []   \n",
       "...                                                  ...   \n",
       "67963                                                 []   \n",
       "67964                                                 []   \n",
       "67965                                                 []   \n",
       "67966  [[ANATOMY], [BRYOZOA], [EMBRYOLOGY], [EXPERIME...   \n",
       "67967                                                 []   \n",
       "\n",
       "                                              norm_tiabs  Month           Date  \n",
       "0      Translesion synthesis by AMV, HIV, and MMLVrev...      8  1596240000000  \n",
       "1      LROD: An Overlap Detection Algorithm for Long ...      8  1596240000000  \n",
       "2      Analytical Performance Validation of Next-Gene...      8  1596240000000  \n",
       "3      A Genome-Based Model to Predict the Virulence ...      8  1596240000000  \n",
       "4      The world should establish an early warning sy...      8  1596240000000  \n",
       "...                                                  ...    ...            ...  \n",
       "67963  Shallow water meiobenthos of the bermuda platf...      4  1585699200000  \n",
       "67964  Fats in fresh water crustaceans. I. Fatty acid...      5    41904000000  \n",
       "67965  [Patterns of differentiation of medusae buds a...     11  1572566400000  \n",
       "67966  THE ADULT AND LARVAL MORPHOLOGY AND LIFE HISTO...     12   849398400000  \n",
       "67967  THE WORK OF THE &quot;MICHAEL SARS&quot; IN TH...      7  1277942400000  \n",
       "\n",
       "[67968 rows x 8 columns]"
      ]
     },
     "execution_count": 49,
     "metadata": {},
     "output_type": "execute_result"
    }
   ],
   "source": [
    "# open title data\n",
    "data_path = \"dataset/\"\n",
    "df_corona = pd.read_json(data_path + 'corona_dtm.json')\n",
    "df_corona"
   ]
  },
  {
   "cell_type": "code",
   "execution_count": 50,
   "metadata": {},
   "outputs": [
    {
     "data": {
      "text/html": [
       "<div>\n",
       "<style scoped>\n",
       "    .dataframe tbody tr th:only-of-type {\n",
       "        vertical-align: middle;\n",
       "    }\n",
       "\n",
       "    .dataframe tbody tr th {\n",
       "        vertical-align: top;\n",
       "    }\n",
       "\n",
       "    .dataframe thead th {\n",
       "        text-align: right;\n",
       "    }\n",
       "</style>\n",
       "<table border=\"1\" class=\"dataframe\">\n",
       "  <thead>\n",
       "    <tr style=\"text-align: right;\">\n",
       "      <th></th>\n",
       "      <th>Pmid</th>\n",
       "      <th>Year</th>\n",
       "      <th>Title</th>\n",
       "      <th>Abstract</th>\n",
       "      <th>Keywords</th>\n",
       "      <th>norm_tiabs</th>\n",
       "      <th>Month</th>\n",
       "      <th>Date</th>\n",
       "    </tr>\n",
       "  </thead>\n",
       "  <tbody>\n",
       "    <tr>\n",
       "      <td>0</td>\n",
       "      <td>32857764</td>\n",
       "      <td>2020</td>\n",
       "      <td>[Translesion synthesis by AMV, HIV, and MMLVre...</td>\n",
       "      <td>[Inosine is ubiquitous and essential in many b...</td>\n",
       "      <td>[]</td>\n",
       "      <td>Translesion synthesis by AMV, HIV, and MMLVrev...</td>\n",
       "      <td>8</td>\n",
       "      <td>8/2020</td>\n",
       "    </tr>\n",
       "    <tr>\n",
       "      <td>1</td>\n",
       "      <td>32849762</td>\n",
       "      <td>2020</td>\n",
       "      <td>[LROD: An Overlap Detection Algorithm for Long...</td>\n",
       "      <td>[Third-generation sequencing technologies can ...</td>\n",
       "      <td>[[alignment], [k-mer distribution], [long read...</td>\n",
       "      <td>LROD: An Overlap Detection Algorithm for Long ...</td>\n",
       "      <td>8</td>\n",
       "      <td>8/2020</td>\n",
       "    </tr>\n",
       "    <tr>\n",
       "      <td>2</td>\n",
       "      <td>32849463</td>\n",
       "      <td>2020</td>\n",
       "      <td>[Analytical Performance Validation of Next-Gen...</td>\n",
       "      <td>[Next-generation sequencing (NGS) enables clin...</td>\n",
       "      <td>[[antimicrobial resistance], [human pathogens]...</td>\n",
       "      <td>Analytical Performance Validation of Next-Gene...</td>\n",
       "      <td>8</td>\n",
       "      <td>8/2020</td>\n",
       "    </tr>\n",
       "    <tr>\n",
       "      <td>3</td>\n",
       "      <td>32843552</td>\n",
       "      <td>2020</td>\n",
       "      <td>[A Genome-Based Model to Predict the Virulence...</td>\n",
       "      <td>[Variation in the genome of Pseudomonas aerugi...</td>\n",
       "      <td>[[], [genome analysis], [machine learning], [m...</td>\n",
       "      <td>A Genome-Based Model to Predict the Virulence ...</td>\n",
       "      <td>8</td>\n",
       "      <td>8/2020</td>\n",
       "    </tr>\n",
       "    <tr>\n",
       "      <td>4</td>\n",
       "      <td>32838395</td>\n",
       "      <td>2020</td>\n",
       "      <td>[The world should establish an early warning s...</td>\n",
       "      <td>[With the emergence of several new epidemics o...</td>\n",
       "      <td>[]</td>\n",
       "      <td>The world should establish an early warning sy...</td>\n",
       "      <td>8</td>\n",
       "      <td>8/2020</td>\n",
       "    </tr>\n",
       "    <tr>\n",
       "      <td>...</td>\n",
       "      <td>...</td>\n",
       "      <td>...</td>\n",
       "      <td>...</td>\n",
       "      <td>...</td>\n",
       "      <td>...</td>\n",
       "      <td>...</td>\n",
       "      <td>...</td>\n",
       "      <td>...</td>\n",
       "    </tr>\n",
       "    <tr>\n",
       "      <td>67963</td>\n",
       "      <td>28309716</td>\n",
       "      <td>2020</td>\n",
       "      <td>[Shallow water meiobenthos of the bermuda plat...</td>\n",
       "      <td>[The distribution and abundance of subtidal me...</td>\n",
       "      <td>[]</td>\n",
       "      <td>Shallow water meiobenthos of the bermuda platf...</td>\n",
       "      <td>4</td>\n",
       "      <td>4/2020</td>\n",
       "    </tr>\n",
       "    <tr>\n",
       "      <td>67964</td>\n",
       "      <td>5504579</td>\n",
       "      <td>1971</td>\n",
       "      <td>[Fats in fresh water crustaceans. I. Fatty aci...</td>\n",
       "      <td>[]</td>\n",
       "      <td>[]</td>\n",
       "      <td>Fats in fresh water crustaceans. I. Fatty acid...</td>\n",
       "      <td>5</td>\n",
       "      <td>5/1971</td>\n",
       "    </tr>\n",
       "    <tr>\n",
       "      <td>67965</td>\n",
       "      <td>28304606</td>\n",
       "      <td>2019</td>\n",
       "      <td>[[Patterns of differentiation of medusae buds ...</td>\n",
       "      <td>[1. The normal development of medusa ofPodocor...</td>\n",
       "      <td>[]</td>\n",
       "      <td>[Patterns of differentiation of medusae buds a...</td>\n",
       "      <td>11</td>\n",
       "      <td>11/2019</td>\n",
       "    </tr>\n",
       "    <tr>\n",
       "      <td>67966</td>\n",
       "      <td>14325028</td>\n",
       "      <td>1996</td>\n",
       "      <td>[THE ADULT AND LARVAL MORPHOLOGY AND LIFE HIST...</td>\n",
       "      <td>[]</td>\n",
       "      <td>[[ANATOMY], [BRYOZOA], [EMBRYOLOGY], [EXPERIME...</td>\n",
       "      <td>THE ADULT AND LARVAL MORPHOLOGY AND LIFE HISTO...</td>\n",
       "      <td>12</td>\n",
       "      <td>12/1996</td>\n",
       "    </tr>\n",
       "    <tr>\n",
       "      <td>67967</td>\n",
       "      <td>17835507</td>\n",
       "      <td>2010</td>\n",
       "      <td>[THE WORK OF THE &amp;quot;MICHAEL SARS&amp;quot; IN T...</td>\n",
       "      <td>[]</td>\n",
       "      <td>[]</td>\n",
       "      <td>THE WORK OF THE &amp;quot;MICHAEL SARS&amp;quot; IN TH...</td>\n",
       "      <td>7</td>\n",
       "      <td>7/2010</td>\n",
       "    </tr>\n",
       "  </tbody>\n",
       "</table>\n",
       "<p>67968 rows × 8 columns</p>\n",
       "</div>"
      ],
      "text/plain": [
       "           Pmid  Year                                              Title  \\\n",
       "0      32857764  2020  [Translesion synthesis by AMV, HIV, and MMLVre...   \n",
       "1      32849762  2020  [LROD: An Overlap Detection Algorithm for Long...   \n",
       "2      32849463  2020  [Analytical Performance Validation of Next-Gen...   \n",
       "3      32843552  2020  [A Genome-Based Model to Predict the Virulence...   \n",
       "4      32838395  2020  [The world should establish an early warning s...   \n",
       "...         ...   ...                                                ...   \n",
       "67963  28309716  2020  [Shallow water meiobenthos of the bermuda plat...   \n",
       "67964   5504579  1971  [Fats in fresh water crustaceans. I. Fatty aci...   \n",
       "67965  28304606  2019  [[Patterns of differentiation of medusae buds ...   \n",
       "67966  14325028  1996  [THE ADULT AND LARVAL MORPHOLOGY AND LIFE HIST...   \n",
       "67967  17835507  2010  [THE WORK OF THE &quot;MICHAEL SARS&quot; IN T...   \n",
       "\n",
       "                                                Abstract  \\\n",
       "0      [Inosine is ubiquitous and essential in many b...   \n",
       "1      [Third-generation sequencing technologies can ...   \n",
       "2      [Next-generation sequencing (NGS) enables clin...   \n",
       "3      [Variation in the genome of Pseudomonas aerugi...   \n",
       "4      [With the emergence of several new epidemics o...   \n",
       "...                                                  ...   \n",
       "67963  [The distribution and abundance of subtidal me...   \n",
       "67964                                                 []   \n",
       "67965  [1. The normal development of medusa ofPodocor...   \n",
       "67966                                                 []   \n",
       "67967                                                 []   \n",
       "\n",
       "                                                Keywords  \\\n",
       "0                                                     []   \n",
       "1      [[alignment], [k-mer distribution], [long read...   \n",
       "2      [[antimicrobial resistance], [human pathogens]...   \n",
       "3      [[], [genome analysis], [machine learning], [m...   \n",
       "4                                                     []   \n",
       "...                                                  ...   \n",
       "67963                                                 []   \n",
       "67964                                                 []   \n",
       "67965                                                 []   \n",
       "67966  [[ANATOMY], [BRYOZOA], [EMBRYOLOGY], [EXPERIME...   \n",
       "67967                                                 []   \n",
       "\n",
       "                                              norm_tiabs  Month     Date  \n",
       "0      Translesion synthesis by AMV, HIV, and MMLVrev...      8   8/2020  \n",
       "1      LROD: An Overlap Detection Algorithm for Long ...      8   8/2020  \n",
       "2      Analytical Performance Validation of Next-Gene...      8   8/2020  \n",
       "3      A Genome-Based Model to Predict the Virulence ...      8   8/2020  \n",
       "4      The world should establish an early warning sy...      8   8/2020  \n",
       "...                                                  ...    ...      ...  \n",
       "67963  Shallow water meiobenthos of the bermuda platf...      4   4/2020  \n",
       "67964  Fats in fresh water crustaceans. I. Fatty acid...      5   5/1971  \n",
       "67965  [Patterns of differentiation of medusae buds a...     11  11/2019  \n",
       "67966  THE ADULT AND LARVAL MORPHOLOGY AND LIFE HISTO...     12  12/1996  \n",
       "67967  THE WORK OF THE &quot;MICHAEL SARS&quot; IN TH...      7   7/2010  \n",
       "\n",
       "[67968 rows x 8 columns]"
      ]
     },
     "execution_count": 50,
     "metadata": {},
     "output_type": "execute_result"
    }
   ],
   "source": [
    "# make date column\n",
    "date = []\n",
    "id = 0\n",
    "\n",
    "for month in df_corona[\"Month\"]:\n",
    "    string_date = str(month) + \"/\" + str(df_dtm[\"Year\"][id])\n",
    "    date.append(string_date)\n",
    "    id += 1\n",
    "    \n",
    "df_corona[\"Date\"] = date\n",
    "df_corona"
   ]
  },
  {
   "cell_type": "code",
   "execution_count": 54,
   "metadata": {},
   "outputs": [],
   "source": [
    "df_corona['Date'] =pd.to_datetime(df_corona.Date)\n",
    "df_corona = df_corona.sort_values(by='Date') # This now sorts in date order"
   ]
  },
  {
   "cell_type": "code",
   "execution_count": 60,
   "metadata": {},
   "outputs": [
    {
     "data": {
      "text/html": [
       "<div>\n",
       "<style scoped>\n",
       "    .dataframe tbody tr th:only-of-type {\n",
       "        vertical-align: middle;\n",
       "    }\n",
       "\n",
       "    .dataframe tbody tr th {\n",
       "        vertical-align: top;\n",
       "    }\n",
       "\n",
       "    .dataframe thead th {\n",
       "        text-align: right;\n",
       "    }\n",
       "</style>\n",
       "<table border=\"1\" class=\"dataframe\">\n",
       "  <thead>\n",
       "    <tr style=\"text-align: right;\">\n",
       "      <th></th>\n",
       "      <th>Pmid</th>\n",
       "      <th>Year</th>\n",
       "      <th>Title</th>\n",
       "      <th>Abstract</th>\n",
       "      <th>Keywords</th>\n",
       "      <th>norm_tiabs</th>\n",
       "      <th>Month</th>\n",
       "      <th>Date</th>\n",
       "    </tr>\n",
       "  </thead>\n",
       "  <tbody>\n",
       "    <tr>\n",
       "      <td>0</td>\n",
       "      <td>4310292</td>\n",
       "      <td>1969</td>\n",
       "      <td>[[Peculiarities of fine structure and virus re...</td>\n",
       "      <td>[]</td>\n",
       "      <td>[]</td>\n",
       "      <td>[Peculiarities of fine structure and virus rep...</td>\n",
       "      <td>12</td>\n",
       "      <td>1969-12-01</td>\n",
       "    </tr>\n",
       "    <tr>\n",
       "      <td>1</td>\n",
       "      <td>5630129</td>\n",
       "      <td>1969</td>\n",
       "      <td>[[On infectious gastroenteritis of swine].]</td>\n",
       "      <td>[]</td>\n",
       "      <td>[]</td>\n",
       "      <td>[On infectious gastroenteritis of swine].</td>\n",
       "      <td>12</td>\n",
       "      <td>1969-12-01</td>\n",
       "    </tr>\n",
       "    <tr>\n",
       "      <td>2</td>\n",
       "      <td>5358406</td>\n",
       "      <td>1970</td>\n",
       "      <td>[Observations on the experimental infection an...</td>\n",
       "      <td>[]</td>\n",
       "      <td>[]</td>\n",
       "      <td>Observations on the experimental infection and...</td>\n",
       "      <td>1</td>\n",
       "      <td>1970-01-01</td>\n",
       "    </tr>\n",
       "    <tr>\n",
       "      <td>3</td>\n",
       "      <td>5390019</td>\n",
       "      <td>1970</td>\n",
       "      <td>[[Identification of transmissible porcine gast...</td>\n",
       "      <td>[]</td>\n",
       "      <td>[]</td>\n",
       "      <td>[Identification of transmissible porcine gastr...</td>\n",
       "      <td>1</td>\n",
       "      <td>1970-01-01</td>\n",
       "    </tr>\n",
       "    <tr>\n",
       "      <td>4</td>\n",
       "      <td>5391878</td>\n",
       "      <td>1970</td>\n",
       "      <td>[[Identification of transmissible gastroenteri...</td>\n",
       "      <td>[]</td>\n",
       "      <td>[]</td>\n",
       "      <td>[Identification of transmissible gastroenterit...</td>\n",
       "      <td>3</td>\n",
       "      <td>1970-03-01</td>\n",
       "    </tr>\n",
       "    <tr>\n",
       "      <td>...</td>\n",
       "      <td>...</td>\n",
       "      <td>...</td>\n",
       "      <td>...</td>\n",
       "      <td>...</td>\n",
       "      <td>...</td>\n",
       "      <td>...</td>\n",
       "      <td>...</td>\n",
       "      <td>...</td>\n",
       "    </tr>\n",
       "    <tr>\n",
       "      <td>67963</td>\n",
       "      <td>32700814</td>\n",
       "      <td>2020</td>\n",
       "      <td>[COVID-19 infection in patients with Sézary sy...</td>\n",
       "      <td>[]</td>\n",
       "      <td>[]</td>\n",
       "      <td>COVID-19 infection in patients with Sézary syn...</td>\n",
       "      <td>8</td>\n",
       "      <td>2020-08-01</td>\n",
       "    </tr>\n",
       "    <tr>\n",
       "      <td>67964</td>\n",
       "      <td>32700813</td>\n",
       "      <td>2020</td>\n",
       "      <td>[Disseminated Intravascular Coagulation: A Dev...</td>\n",
       "      <td>[Disseminated intravascular coagulation (DIC) ...</td>\n",
       "      <td>[[COVID-19], [bullae], [disseminated intravasc...</td>\n",
       "      <td>Disseminated Intravascular Coagulation: A Deva...</td>\n",
       "      <td>8</td>\n",
       "      <td>2020-08-01</td>\n",
       "    </tr>\n",
       "    <tr>\n",
       "      <td>67965</td>\n",
       "      <td>32700795</td>\n",
       "      <td>2020</td>\n",
       "      <td>[Targeting SARS-CoV-2 RBD interface: a supervi...</td>\n",
       "      <td>[Coronavirus Disease 2019 (COVID-19) has sprea...</td>\n",
       "      <td>[[COVID-19], [Molecular dynamics], [Pharmacoph...</td>\n",
       "      <td>Targeting SARS-CoV-2 RBD interface: a supervis...</td>\n",
       "      <td>8</td>\n",
       "      <td>2020-08-01</td>\n",
       "    </tr>\n",
       "    <tr>\n",
       "      <td>67966</td>\n",
       "      <td>32700764</td>\n",
       "      <td>2020</td>\n",
       "      <td>[Screening with HRCT chest and PCR testing for...</td>\n",
       "      <td>[]</td>\n",
       "      <td>[]</td>\n",
       "      <td>Screening with HRCT chest and PCR testing for ...</td>\n",
       "      <td>8</td>\n",
       "      <td>2020-08-01</td>\n",
       "    </tr>\n",
       "    <tr>\n",
       "      <td>67967</td>\n",
       "      <td>32857764</td>\n",
       "      <td>2020</td>\n",
       "      <td>[Translesion synthesis by AMV, HIV, and MMLVre...</td>\n",
       "      <td>[Inosine is ubiquitous and essential in many b...</td>\n",
       "      <td>[]</td>\n",
       "      <td>Translesion synthesis by AMV, HIV, and MMLVrev...</td>\n",
       "      <td>8</td>\n",
       "      <td>2020-08-01</td>\n",
       "    </tr>\n",
       "  </tbody>\n",
       "</table>\n",
       "<p>67968 rows × 8 columns</p>\n",
       "</div>"
      ],
      "text/plain": [
       "           Pmid  Year                                              Title  \\\n",
       "0       4310292  1969  [[Peculiarities of fine structure and virus re...   \n",
       "1       5630129  1969        [[On infectious gastroenteritis of swine].]   \n",
       "2       5358406  1970  [Observations on the experimental infection an...   \n",
       "3       5390019  1970  [[Identification of transmissible porcine gast...   \n",
       "4       5391878  1970  [[Identification of transmissible gastroenteri...   \n",
       "...         ...   ...                                                ...   \n",
       "67963  32700814  2020  [COVID-19 infection in patients with Sézary sy...   \n",
       "67964  32700813  2020  [Disseminated Intravascular Coagulation: A Dev...   \n",
       "67965  32700795  2020  [Targeting SARS-CoV-2 RBD interface: a supervi...   \n",
       "67966  32700764  2020  [Screening with HRCT chest and PCR testing for...   \n",
       "67967  32857764  2020  [Translesion synthesis by AMV, HIV, and MMLVre...   \n",
       "\n",
       "                                                Abstract  \\\n",
       "0                                                     []   \n",
       "1                                                     []   \n",
       "2                                                     []   \n",
       "3                                                     []   \n",
       "4                                                     []   \n",
       "...                                                  ...   \n",
       "67963                                                 []   \n",
       "67964  [Disseminated intravascular coagulation (DIC) ...   \n",
       "67965  [Coronavirus Disease 2019 (COVID-19) has sprea...   \n",
       "67966                                                 []   \n",
       "67967  [Inosine is ubiquitous and essential in many b...   \n",
       "\n",
       "                                                Keywords  \\\n",
       "0                                                     []   \n",
       "1                                                     []   \n",
       "2                                                     []   \n",
       "3                                                     []   \n",
       "4                                                     []   \n",
       "...                                                  ...   \n",
       "67963                                                 []   \n",
       "67964  [[COVID-19], [bullae], [disseminated intravasc...   \n",
       "67965  [[COVID-19], [Molecular dynamics], [Pharmacoph...   \n",
       "67966                                                 []   \n",
       "67967                                                 []   \n",
       "\n",
       "                                              norm_tiabs  Month       Date  \n",
       "0      [Peculiarities of fine structure and virus rep...     12 1969-12-01  \n",
       "1             [On infectious gastroenteritis of swine].      12 1969-12-01  \n",
       "2      Observations on the experimental infection and...      1 1970-01-01  \n",
       "3      [Identification of transmissible porcine gastr...      1 1970-01-01  \n",
       "4      [Identification of transmissible gastroenterit...      3 1970-03-01  \n",
       "...                                                  ...    ...        ...  \n",
       "67963  COVID-19 infection in patients with Sézary syn...      8 2020-08-01  \n",
       "67964  Disseminated Intravascular Coagulation: A Deva...      8 2020-08-01  \n",
       "67965  Targeting SARS-CoV-2 RBD interface: a supervis...      8 2020-08-01  \n",
       "67966  Screening with HRCT chest and PCR testing for ...      8 2020-08-01  \n",
       "67967  Translesion synthesis by AMV, HIV, and MMLVrev...      8 2020-08-01  \n",
       "\n",
       "[67968 rows x 8 columns]"
      ]
     },
     "execution_count": 60,
     "metadata": {},
     "output_type": "execute_result"
    }
   ],
   "source": [
    "df_corona = df_corona.reset_index(drop=True)\n",
    "df_corona"
   ]
  },
  {
   "cell_type": "code",
   "execution_count": 79,
   "metadata": {},
   "outputs": [
    {
     "name": "stdout",
     "output_type": "stream",
     "text": [
      "[329, 657, 1557, 7839, 57586]\n"
     ]
    }
   ],
   "source": [
    "# calculate time slice for period of 10 years\n",
    "peri10 = [0, 0, 0, 0, 0]\n",
    "\n",
    "for date in df_corona[\"Date\"]:\n",
    "    if date < pd.Timestamp('1981-01-01T00'):\n",
    "        peri10[0] += 1\n",
    "    if date >= pd.Timestamp('1981-01-01T00') and date < pd.Timestamp('1991-01-01T00'):\n",
    "        peri10[1] += 1\n",
    "    if date >= pd.Timestamp('1991-01-01T00') and date < pd.Timestamp('2001-01-01T00'):\n",
    "        peri10[2] += 1\n",
    "    if date >= pd.Timestamp('2001-01-01T00') and date < pd.Timestamp('2011-01-01T00'):\n",
    "        peri10[3] += 1\n",
    "    if date >= pd.Timestamp('2011-01-01T00'):\n",
    "        peri10[4] += 1\n",
    "        \n",
    "print(peri10)\n",
    "#peri10[0]+peri10[1]+peri10[2]+peri10[3]+peri10[4]"
   ]
  },
  {
   "cell_type": "code",
   "execution_count": 81,
   "metadata": {},
   "outputs": [
    {
     "name": "stdout",
     "output_type": "stream",
     "text": [
      "[152, 177, 255, 402, 668, 889, 4128, 3711, 3390, 54196]\n"
     ]
    }
   ],
   "source": [
    "# calculate time slice for period of 10 years\n",
    "peri05 = [0, 0, 0, 0, 0, 0, 0, 0, 0, 0]\n",
    "\n",
    "for date in df_corona[\"Date\"]:\n",
    "    if date < pd.Timestamp('1976-01-01T00'):\n",
    "        peri05[0] += 1\n",
    "    if date >= pd.Timestamp('1976-01-01T00') and date < pd.Timestamp('1981-01-01T00'):\n",
    "        peri05[1] += 1\n",
    "    if date >= pd.Timestamp('1981-01-01T00') and date < pd.Timestamp('1986-01-01T00'):\n",
    "        peri05[2] += 1\n",
    "    if date >= pd.Timestamp('1986-01-01T00') and date < pd.Timestamp('1991-01-01T00'):\n",
    "        peri05[3] += 1\n",
    "    if date >= pd.Timestamp('1991-01-01T00') and date < pd.Timestamp('1996-01-01T00'):\n",
    "        peri05[4] += 1\n",
    "    if date >= pd.Timestamp('1996-01-01T00') and date < pd.Timestamp('2001-01-01T00'):\n",
    "        peri05[5] += 1\n",
    "    if date >= pd.Timestamp('2001-01-01T00') and date < pd.Timestamp('2006-01-01T00'):\n",
    "        peri05[6] += 1\n",
    "    if date >= pd.Timestamp('2006-01-01T00') and date < pd.Timestamp('2011-01-01T00'):\n",
    "        peri05[7] += 1\n",
    "    if date >= pd.Timestamp('2011-01-01T00') and date < pd.Timestamp('2016-01-01T00'):\n",
    "        peri05[8] += 1\n",
    "    if date >= pd.Timestamp('2016-01-01T00'):\n",
    "        peri05[9] += 1\n",
    "        \n",
    "print(peri05)"
   ]
  },
  {
   "cell_type": "code",
   "execution_count": 84,
   "metadata": {},
   "outputs": [
    {
     "name": "stdout",
     "output_type": "stream",
     "text": [
      "[17853, 95, 276, 874, 2798, 4660, 10000, 12434, 18978]\n"
     ]
    },
    {
     "data": {
      "text/plain": [
       "67968"
      ]
     },
     "execution_count": 84,
     "metadata": {},
     "output_type": "execute_result"
    }
   ],
   "source": [
    "# calculate time slice for period of 10 years\n",
    "peri2019 = [0, 0, 0, 0, 0, 0, 0, 0, 0]\n",
    "\n",
    "for date in df_corona[\"Date\"]:\n",
    "    if date < pd.Timestamp('2020-01-01T00'):\n",
    "        peri2019[0] += 1\n",
    "    if date >= pd.Timestamp('2020-01-01T00') and date < pd.Timestamp('2020-02-01T00'):\n",
    "        peri2019[1] += 1\n",
    "    if date >= pd.Timestamp('2020-02-01T00') and date < pd.Timestamp('2020-03-01T00'):\n",
    "        peri2019[2] += 1\n",
    "    if date >= pd.Timestamp('2020-03-01T00') and date < pd.Timestamp('2020-04-01T00'):\n",
    "        peri2019[3] += 1\n",
    "    if date >= pd.Timestamp('2020-04-01T00') and date < pd.Timestamp('2020-05-01T00'):\n",
    "        peri2019[4] += 1\n",
    "    if date >= pd.Timestamp('2020-05-01T00') and date < pd.Timestamp('2020-06-01T00'):\n",
    "        peri2019[5] += 1\n",
    "    if date >= pd.Timestamp('2020-06-01T00') and date < pd.Timestamp('2020-07-01T00'):\n",
    "        peri2019[6] += 1\n",
    "    if date >= pd.Timestamp('2020-07-01T00') and date < pd.Timestamp('2020-08-01T00'):\n",
    "        peri2019[7] += 1\n",
    "    if date >= pd.Timestamp('2020-08-01T00'):\n",
    "        peri2019[8] += 1\n",
    "        \n",
    "print(peri2019)\n",
    "sum(peri2019)"
   ]
  },
  {
   "cell_type": "code",
   "execution_count": 61,
   "metadata": {},
   "outputs": [
    {
     "name": "stderr",
     "output_type": "stream",
     "text": [
      "[nltk_data] Downloading package wordnet to\n",
      "[nltk_data]     /Users/amberwtchang/nltk_data...\n",
      "[nltk_data]   Package wordnet is already up-to-date!\n"
     ]
    },
    {
     "data": {
      "text/plain": [
       "True"
      ]
     },
     "execution_count": 61,
     "metadata": {},
     "output_type": "execute_result"
    }
   ],
   "source": [
    "import gensim\n",
    "from gensim.utils import simple_preprocess\n",
    "from gensim.parsing.preprocessing import STOPWORDS\n",
    "from nltk.stem import WordNetLemmatizer, SnowballStemmer\n",
    "from nltk.stem.porter import *\n",
    "import nltk\n",
    "nltk.download('wordnet')"
   ]
  },
  {
   "cell_type": "code",
   "execution_count": 62,
   "metadata": {},
   "outputs": [
    {
     "data": {
      "text/plain": [
       "'rain'"
      ]
     },
     "execution_count": 62,
     "metadata": {},
     "output_type": "execute_result"
    }
   ],
   "source": [
    "# Write a function to perform lemmatize and stem preprocessing steps on the data set.\n",
    "stemmer = SnowballStemmer('english')\n",
    "def lemmatize_stemming(text):\n",
    "    return stemmer.stem(WordNetLemmatizer().lemmatize(text, pos='v')) # lemmatize, pos\n",
    "def preprocess(text):\n",
    "    result = []\n",
    "    for token in gensim.utils.simple_preprocess(text):\n",
    "        if token not in gensim.parsing.preprocessing.STOPWORDS and len(token) > 3:\n",
    "            result.append(lemmatize_stemming(token))\n",
    "    return result\n",
    "lemmatize_stemming(\"rained\")"
   ]
  },
  {
   "cell_type": "code",
   "execution_count": 63,
   "metadata": {},
   "outputs": [],
   "source": [
    "data_lemmatized = []\n",
    "for d in df_corona[\"norm_tiabs\"]:\n",
    "    lemma_doc = preprocess(d)\n",
    "    data_lemmatized.append(lemma_doc)"
   ]
  },
  {
   "cell_type": "code",
   "execution_count": 64,
   "metadata": {},
   "outputs": [],
   "source": [
    "# store dtm_lemmatized list\n",
    "import pickle\n",
    "\n",
    "with open(\"dataset/dtm_lemmatized\", \"wb\") as fp:   #Pickling\n",
    "    pickle.dump(data_lemmatized, fp)\n"
   ]
  },
  {
   "cell_type": "code",
   "execution_count": 65,
   "metadata": {},
   "outputs": [
    {
     "data": {
      "text/plain": [
       "67968"
      ]
     },
     "execution_count": 65,
     "metadata": {},
     "output_type": "execute_result"
    }
   ],
   "source": [
    "# open pickle file\n",
    "with open(\"dataset/dtm_lemmatized\", \"rb\") as fp:   # Unpickling\n",
    "    data_lemmatized = pickle.load(fp)\n",
    "len(data_lemmatized)"
   ]
  },
  {
   "cell_type": "code",
   "execution_count": 66,
   "metadata": {},
   "outputs": [
    {
     "name": "stdout",
     "output_type": "stream",
     "text": [
      "[[(0, 1), (1, 1), (2, 1), (3, 1), (4, 1)]]\n"
     ]
    }
   ],
   "source": [
    "import gensim.corpora as corpora\n",
    "# Create Dictionary\n",
    "id2word = corpora.Dictionary(data_lemmatized)\n",
    "# Create Corpus\n",
    "texts = data_lemmatized\n",
    "# Term Document Frequency\n",
    "corpus = [id2word.doc2bow(text) for text in texts]\n",
    "# View\n",
    "print(corpus[:1])"
   ]
  },
  {
   "cell_type": "code",
   "execution_count": 67,
   "metadata": {},
   "outputs": [],
   "source": [
    "# store dict_dtm\n",
    "with open(\"dataset/dict_dtm\", \"wb\") as fp:   #Pickling\n",
    "    pickle.dump(id2word, fp)"
   ]
  },
  {
   "cell_type": "code",
   "execution_count": 68,
   "metadata": {},
   "outputs": [],
   "source": [
    "# store corpus_dtm\n",
    "with open(\"dataset/corpus_dtm\", \"wb\") as fp:   #Pickling\n",
    "    pickle.dump(corpus, fp)\n"
   ]
  },
  {
   "cell_type": "code",
   "execution_count": 86,
   "metadata": {},
   "outputs": [
    {
     "name": "stderr",
     "output_type": "stream",
     "text": [
      "/Users/amberwtchang/opt/anaconda3/lib/python3.7/site-packages/gensim/models/ldaseqmodel.py:1474: RuntimeWarning: invalid value encountered in double_scalars\n",
      "  converged = np.fabs((lhood_old - lhood) / (lhood_old * total))\n"
     ]
    },
    {
     "ename": "KeyboardInterrupt",
     "evalue": "",
     "output_type": "error",
     "traceback": [
      "\u001b[0;31m---------------------------------------------------------------------------\u001b[0m",
      "\u001b[0;31mKeyboardInterrupt\u001b[0m                         Traceback (most recent call last)",
      "\u001b[0;32m<ipython-input-86-ee382c2e94d1>\u001b[0m in \u001b[0;36m<module>\u001b[0;34m\u001b[0m\n\u001b[1;32m      3\u001b[0m \u001b[0;34m\u001b[0m\u001b[0m\n\u001b[1;32m      4\u001b[0m \u001b[0mperi10\u001b[0m \u001b[0;34m=\u001b[0m \u001b[0;34m[\u001b[0m\u001b[0;36m329\u001b[0m\u001b[0;34m,\u001b[0m \u001b[0;36m657\u001b[0m\u001b[0;34m,\u001b[0m \u001b[0;36m1557\u001b[0m\u001b[0;34m,\u001b[0m \u001b[0;36m7839\u001b[0m\u001b[0;34m,\u001b[0m \u001b[0;36m57586\u001b[0m\u001b[0;34m]\u001b[0m\u001b[0;34m\u001b[0m\u001b[0;34m\u001b[0m\u001b[0m\n\u001b[0;32m----> 5\u001b[0;31m \u001b[0mldaseq\u001b[0m \u001b[0;34m=\u001b[0m \u001b[0mLdaSeqModel\u001b[0m\u001b[0;34m(\u001b[0m\u001b[0mcorpus\u001b[0m\u001b[0;34m=\u001b[0m\u001b[0mcorpus\u001b[0m\u001b[0;34m,\u001b[0m \u001b[0mtime_slice\u001b[0m\u001b[0;34m=\u001b[0m\u001b[0mperi10\u001b[0m\u001b[0;34m,\u001b[0m \u001b[0mnum_topics\u001b[0m\u001b[0;34m=\u001b[0m\u001b[0;36m15\u001b[0m\u001b[0;34m,\u001b[0m \u001b[0mchunksize\u001b[0m\u001b[0;34m=\u001b[0m\u001b[0;36m100\u001b[0m\u001b[0;34m)\u001b[0m\u001b[0;34m\u001b[0m\u001b[0;34m\u001b[0m\u001b[0m\n\u001b[0m",
      "\u001b[0;32m~/opt/anaconda3/lib/python3.7/site-packages/gensim/models/ldaseqmodel.py\u001b[0m in \u001b[0;36m__init__\u001b[0;34m(self, corpus, time_slice, id2word, alphas, num_topics, initialize, sstats, lda_model, obs_variance, chain_variance, passes, random_state, lda_inference_max_iter, em_min_iter, em_max_iter, chunksize)\u001b[0m\n\u001b[1;32m    186\u001b[0m \u001b[0;34m\u001b[0m\u001b[0m\n\u001b[1;32m    187\u001b[0m             \u001b[0;31m# fit DTM\u001b[0m\u001b[0;34m\u001b[0m\u001b[0;34m\u001b[0m\u001b[0;34m\u001b[0m\u001b[0m\n\u001b[0;32m--> 188\u001b[0;31m             \u001b[0mself\u001b[0m\u001b[0;34m.\u001b[0m\u001b[0mfit_lda_seq\u001b[0m\u001b[0;34m(\u001b[0m\u001b[0mcorpus\u001b[0m\u001b[0;34m,\u001b[0m \u001b[0mlda_inference_max_iter\u001b[0m\u001b[0;34m,\u001b[0m \u001b[0mem_min_iter\u001b[0m\u001b[0;34m,\u001b[0m \u001b[0mem_max_iter\u001b[0m\u001b[0;34m,\u001b[0m \u001b[0mchunksize\u001b[0m\u001b[0;34m)\u001b[0m\u001b[0;34m\u001b[0m\u001b[0;34m\u001b[0m\u001b[0m\n\u001b[0m\u001b[1;32m    189\u001b[0m \u001b[0;34m\u001b[0m\u001b[0m\n\u001b[1;32m    190\u001b[0m     \u001b[0;32mdef\u001b[0m \u001b[0minit_ldaseq_ss\u001b[0m\u001b[0;34m(\u001b[0m\u001b[0mself\u001b[0m\u001b[0;34m,\u001b[0m \u001b[0mtopic_chain_variance\u001b[0m\u001b[0;34m,\u001b[0m \u001b[0mtopic_obs_variance\u001b[0m\u001b[0;34m,\u001b[0m \u001b[0malpha\u001b[0m\u001b[0;34m,\u001b[0m \u001b[0minit_suffstats\u001b[0m\u001b[0;34m)\u001b[0m\u001b[0;34m:\u001b[0m\u001b[0;34m\u001b[0m\u001b[0;34m\u001b[0m\u001b[0m\n",
      "\u001b[0;32m~/opt/anaconda3/lib/python3.7/site-packages/gensim/models/ldaseqmodel.py\u001b[0m in \u001b[0;36mfit_lda_seq\u001b[0;34m(self, corpus, lda_inference_max_iter, em_min_iter, em_max_iter, chunksize)\u001b[0m\n\u001b[1;32m    275\u001b[0m             \u001b[0;31m# seq model and find the evidence lower bound. This is the E - Step\u001b[0m\u001b[0;34m\u001b[0m\u001b[0;34m\u001b[0m\u001b[0;34m\u001b[0m\u001b[0m\n\u001b[1;32m    276\u001b[0m             \u001b[0mbound\u001b[0m\u001b[0;34m,\u001b[0m \u001b[0mgammas\u001b[0m \u001b[0;34m=\u001b[0m\u001b[0;31m \u001b[0m\u001b[0;31m\\\u001b[0m\u001b[0;34m\u001b[0m\u001b[0;34m\u001b[0m\u001b[0m\n\u001b[0;32m--> 277\u001b[0;31m                 \u001b[0mself\u001b[0m\u001b[0;34m.\u001b[0m\u001b[0mlda_seq_infer\u001b[0m\u001b[0;34m(\u001b[0m\u001b[0mcorpus\u001b[0m\u001b[0;34m,\u001b[0m \u001b[0mtopic_suffstats\u001b[0m\u001b[0;34m,\u001b[0m \u001b[0mgammas\u001b[0m\u001b[0;34m,\u001b[0m \u001b[0mlhoods\u001b[0m\u001b[0;34m,\u001b[0m \u001b[0miter_\u001b[0m\u001b[0;34m,\u001b[0m \u001b[0mlda_inference_max_iter\u001b[0m\u001b[0;34m,\u001b[0m \u001b[0mchunksize\u001b[0m\u001b[0;34m)\u001b[0m\u001b[0;34m\u001b[0m\u001b[0;34m\u001b[0m\u001b[0m\n\u001b[0m\u001b[1;32m    278\u001b[0m             \u001b[0mself\u001b[0m\u001b[0;34m.\u001b[0m\u001b[0mgammas\u001b[0m \u001b[0;34m=\u001b[0m \u001b[0mgammas\u001b[0m\u001b[0;34m\u001b[0m\u001b[0;34m\u001b[0m\u001b[0m\n\u001b[1;32m    279\u001b[0m \u001b[0;34m\u001b[0m\u001b[0m\n",
      "\u001b[0;32m~/opt/anaconda3/lib/python3.7/site-packages/gensim/models/ldaseqmodel.py\u001b[0m in \u001b[0;36mlda_seq_infer\u001b[0;34m(self, corpus, topic_suffstats, gammas, lhoods, iter_, lda_inference_max_iter, chunksize)\u001b[0m\n\u001b[1;32m    351\u001b[0m             bound, gammas = self.inferDTMseq(\n\u001b[1;32m    352\u001b[0m                 \u001b[0mcorpus\u001b[0m\u001b[0;34m,\u001b[0m \u001b[0mtopic_suffstats\u001b[0m\u001b[0;34m,\u001b[0m \u001b[0mgammas\u001b[0m\u001b[0;34m,\u001b[0m \u001b[0mlhoods\u001b[0m\u001b[0;34m,\u001b[0m \u001b[0mlda\u001b[0m\u001b[0;34m,\u001b[0m\u001b[0;34m\u001b[0m\u001b[0;34m\u001b[0m\u001b[0m\n\u001b[0;32m--> 353\u001b[0;31m                 \u001b[0mldapost\u001b[0m\u001b[0;34m,\u001b[0m \u001b[0miter_\u001b[0m\u001b[0;34m,\u001b[0m \u001b[0mbound\u001b[0m\u001b[0;34m,\u001b[0m \u001b[0mlda_inference_max_iter\u001b[0m\u001b[0;34m,\u001b[0m \u001b[0mchunksize\u001b[0m\u001b[0;34m\u001b[0m\u001b[0;34m\u001b[0m\u001b[0m\n\u001b[0m\u001b[1;32m    354\u001b[0m             )\n\u001b[1;32m    355\u001b[0m         \u001b[0;32melif\u001b[0m \u001b[0mmodel\u001b[0m \u001b[0;34m==\u001b[0m \u001b[0;34m\"DIM\"\u001b[0m\u001b[0;34m:\u001b[0m\u001b[0;34m\u001b[0m\u001b[0;34m\u001b[0m\u001b[0m\n",
      "\u001b[0;32m~/opt/anaconda3/lib/python3.7/site-packages/gensim/models/ldaseqmodel.py\u001b[0m in \u001b[0;36minferDTMseq\u001b[0;34m(self, corpus, topic_suffstats, gammas, lhoods, lda, ldapost, iter_, bound, lda_inference_max_iter, chunksize)\u001b[0m\n\u001b[1;32m    424\u001b[0m                 \u001b[0;32mif\u001b[0m \u001b[0miter_\u001b[0m \u001b[0;34m==\u001b[0m \u001b[0;36m0\u001b[0m\u001b[0;34m:\u001b[0m\u001b[0;34m\u001b[0m\u001b[0;34m\u001b[0m\u001b[0m\n\u001b[1;32m    425\u001b[0m                     doc_lhood = LdaPost.fit_lda_post(\n\u001b[0;32m--> 426\u001b[0;31m                         \u001b[0mldapost\u001b[0m\u001b[0;34m,\u001b[0m \u001b[0mdoc_num\u001b[0m\u001b[0;34m,\u001b[0m \u001b[0mtime\u001b[0m\u001b[0;34m,\u001b[0m \u001b[0;32mNone\u001b[0m\u001b[0;34m,\u001b[0m \u001b[0mlda_inference_max_iter\u001b[0m\u001b[0;34m=\u001b[0m\u001b[0mlda_inference_max_iter\u001b[0m\u001b[0;34m\u001b[0m\u001b[0;34m\u001b[0m\u001b[0m\n\u001b[0m\u001b[1;32m    427\u001b[0m                     )\n\u001b[1;32m    428\u001b[0m                 \u001b[0;32melse\u001b[0m\u001b[0;34m:\u001b[0m\u001b[0;34m\u001b[0m\u001b[0;34m\u001b[0m\u001b[0m\n",
      "\u001b[0;32m~/opt/anaconda3/lib/python3.7/site-packages/gensim/models/ldaseqmodel.py\u001b[0m in \u001b[0;36mfit_lda_post\u001b[0;34m(self, doc_number, time, ldaseq, LDA_INFERENCE_CONVERGED, lda_inference_max_iter, g, g3_matrix, g4_matrix, g5_matrix)\u001b[0m\n\u001b[1;32m   1482\u001b[0m \u001b[0;34m\u001b[0m\u001b[0m\n\u001b[1;32m   1483\u001b[0m             \u001b[0;32mif\u001b[0m \u001b[0mmodel\u001b[0m \u001b[0;34m==\u001b[0m \u001b[0;34m\"DTM\"\u001b[0m \u001b[0;32mor\u001b[0m \u001b[0msslm\u001b[0m \u001b[0;32mis\u001b[0m \u001b[0;32mNone\u001b[0m\u001b[0;34m:\u001b[0m\u001b[0;34m\u001b[0m\u001b[0;34m\u001b[0m\u001b[0m\n\u001b[0;32m-> 1484\u001b[0;31m                 \u001b[0mself\u001b[0m\u001b[0;34m.\u001b[0m\u001b[0mphi\u001b[0m\u001b[0;34m,\u001b[0m \u001b[0mself\u001b[0m\u001b[0;34m.\u001b[0m\u001b[0mlog_phi\u001b[0m \u001b[0;34m=\u001b[0m \u001b[0mself\u001b[0m\u001b[0;34m.\u001b[0m\u001b[0mupdate_phi\u001b[0m\u001b[0;34m(\u001b[0m\u001b[0mdoc_number\u001b[0m\u001b[0;34m,\u001b[0m \u001b[0mtime\u001b[0m\u001b[0;34m)\u001b[0m\u001b[0;34m\u001b[0m\u001b[0;34m\u001b[0m\u001b[0m\n\u001b[0m\u001b[1;32m   1485\u001b[0m             \u001b[0;32melif\u001b[0m \u001b[0mmodel\u001b[0m \u001b[0;34m==\u001b[0m \u001b[0;34m\"DIM\"\u001b[0m \u001b[0;32mand\u001b[0m \u001b[0msslm\u001b[0m \u001b[0;32mis\u001b[0m \u001b[0;32mnot\u001b[0m \u001b[0;32mNone\u001b[0m\u001b[0;34m:\u001b[0m\u001b[0;34m\u001b[0m\u001b[0;34m\u001b[0m\u001b[0m\n\u001b[1;32m   1486\u001b[0m                 \u001b[0mself\u001b[0m\u001b[0;34m.\u001b[0m\u001b[0mphi\u001b[0m\u001b[0;34m,\u001b[0m \u001b[0mself\u001b[0m\u001b[0;34m.\u001b[0m\u001b[0mlog_phi\u001b[0m \u001b[0;34m=\u001b[0m \u001b[0mself\u001b[0m\u001b[0;34m.\u001b[0m\u001b[0mupdate_phi_fixed\u001b[0m\u001b[0;34m(\u001b[0m\u001b[0mdoc_number\u001b[0m\u001b[0;34m,\u001b[0m \u001b[0mtime\u001b[0m\u001b[0;34m,\u001b[0m \u001b[0msslm\u001b[0m\u001b[0;34m,\u001b[0m \u001b[0mg3_matrix\u001b[0m\u001b[0;34m,\u001b[0m \u001b[0mg4_matrix\u001b[0m\u001b[0;34m,\u001b[0m \u001b[0mg5_matrix\u001b[0m\u001b[0;34m)\u001b[0m\u001b[0;34m\u001b[0m\u001b[0;34m\u001b[0m\u001b[0m\n",
      "\u001b[0;32m~/opt/anaconda3/lib/python3.7/site-packages/gensim/models/ldaseqmodel.py\u001b[0m in \u001b[0;36mupdate_phi\u001b[0;34m(self, doc_number, time)\u001b[0m\n\u001b[1;32m   1325\u001b[0m             \u001b[0mv\u001b[0m \u001b[0;34m=\u001b[0m \u001b[0mlog_phi_row\u001b[0m\u001b[0;34m[\u001b[0m\u001b[0;36m0\u001b[0m\u001b[0;34m]\u001b[0m\u001b[0;34m\u001b[0m\u001b[0;34m\u001b[0m\u001b[0m\n\u001b[1;32m   1326\u001b[0m             \u001b[0;32mfor\u001b[0m \u001b[0mi\u001b[0m \u001b[0;32min\u001b[0m \u001b[0mrange\u001b[0m\u001b[0;34m(\u001b[0m\u001b[0;36m1\u001b[0m\u001b[0;34m,\u001b[0m \u001b[0mlen\u001b[0m\u001b[0;34m(\u001b[0m\u001b[0mlog_phi_row\u001b[0m\u001b[0;34m)\u001b[0m\u001b[0;34m)\u001b[0m\u001b[0;34m:\u001b[0m\u001b[0;34m\u001b[0m\u001b[0;34m\u001b[0m\u001b[0m\n\u001b[0;32m-> 1327\u001b[0;31m                 \u001b[0mv\u001b[0m \u001b[0;34m=\u001b[0m \u001b[0mnp\u001b[0m\u001b[0;34m.\u001b[0m\u001b[0mlogaddexp\u001b[0m\u001b[0;34m(\u001b[0m\u001b[0mv\u001b[0m\u001b[0;34m,\u001b[0m \u001b[0mlog_phi_row\u001b[0m\u001b[0;34m[\u001b[0m\u001b[0mi\u001b[0m\u001b[0;34m]\u001b[0m\u001b[0;34m)\u001b[0m\u001b[0;34m\u001b[0m\u001b[0;34m\u001b[0m\u001b[0m\n\u001b[0m\u001b[1;32m   1328\u001b[0m \u001b[0;34m\u001b[0m\u001b[0m\n\u001b[1;32m   1329\u001b[0m             \u001b[0;31m# subtract every element by v\u001b[0m\u001b[0;34m\u001b[0m\u001b[0;34m\u001b[0m\u001b[0;34m\u001b[0m\u001b[0m\n",
      "\u001b[0;31mKeyboardInterrupt\u001b[0m: "
     ]
    }
   ],
   "source": [
    "from gensim.test.utils import common_corpus\n",
    "from gensim.models import LdaSeqModel\n",
    "\n",
    "peri10 = [329, 657, 1557, 7839, 57586]\n",
    "ldaseq = LdaSeqModel(corpus=corpus, time_slice=peri10, num_topics=15, chunksize=100)"
   ]
  },
  {
   "cell_type": "code",
   "execution_count": null,
   "metadata": {},
   "outputs": [],
   "source": [
    "# save model\n",
    "from gensim.test.utils import datapath\n",
    "\n",
    "temp_file = datapath(\"model\")\n",
    "ldaseq.save(temp_file)"
   ]
  },
  {
   "cell_type": "code",
   "execution_count": null,
   "metadata": {},
   "outputs": [],
   "source": [
    "# Load a potentially pre-trained model from disk.\n",
    "ldaseq = LdaSeqModel.load(temp_file)"
   ]
  },
  {
   "cell_type": "code",
   "execution_count": null,
   "metadata": {},
   "outputs": [],
   "source": []
  },
  {
   "cell_type": "code",
   "execution_count": null,
   "metadata": {},
   "outputs": [],
   "source": []
  },
  {
   "cell_type": "code",
   "execution_count": null,
   "metadata": {},
   "outputs": [],
   "source": []
  },
  {
   "cell_type": "code",
   "execution_count": 85,
   "metadata": {},
   "outputs": [
    {
     "ename": "OSError",
     "evalue": "BleiCorpus: could not find vocabulary file",
     "output_type": "error",
     "traceback": [
      "\u001b[0;31m---------------------------------------------------------------------------\u001b[0m",
      "\u001b[0;31mOSError\u001b[0m                                   Traceback (most recent call last)",
      "\u001b[0;32m<ipython-input-85-889f9ff2e4c9>\u001b[0m in \u001b[0;36m<module>\u001b[0;34m\u001b[0m\n\u001b[1;32m      6\u001b[0m \u001b[0;34m\u001b[0m\u001b[0m\n\u001b[1;32m      7\u001b[0m \u001b[0;34m\u001b[0m\u001b[0m\n\u001b[0;32m----> 8\u001b[0;31m \u001b[0mcorpus\u001b[0m \u001b[0;34m=\u001b[0m \u001b[0mbleicorpus\u001b[0m\u001b[0;34m.\u001b[0m\u001b[0mBleiCorpus\u001b[0m\u001b[0;34m(\u001b[0m\u001b[0;34m'dataset/corpus_dtm'\u001b[0m\u001b[0;34m)\u001b[0m\u001b[0;34m\u001b[0m\u001b[0;34m\u001b[0m\u001b[0m\n\u001b[0m\u001b[1;32m      9\u001b[0m \u001b[0;31m# it's very important that your corpus is saved in order of your time-slices!\u001b[0m\u001b[0;34m\u001b[0m\u001b[0;34m\u001b[0m\u001b[0;34m\u001b[0m\u001b[0m\n\u001b[1;32m     10\u001b[0m \u001b[0;34m\u001b[0m\u001b[0m\n",
      "\u001b[0;32m~/opt/anaconda3/lib/python3.7/site-packages/gensim/corpora/bleicorpus.py\u001b[0m in \u001b[0;36m__init__\u001b[0;34m(self, fname, fname_vocab)\u001b[0m\n\u001b[1;32m     72\u001b[0m                     \u001b[0;32mbreak\u001b[0m\u001b[0;34m\u001b[0m\u001b[0;34m\u001b[0m\u001b[0m\n\u001b[1;32m     73\u001b[0m             \u001b[0;32melse\u001b[0m\u001b[0;34m:\u001b[0m\u001b[0;34m\u001b[0m\u001b[0;34m\u001b[0m\u001b[0m\n\u001b[0;32m---> 74\u001b[0;31m                 \u001b[0;32mraise\u001b[0m \u001b[0mIOError\u001b[0m\u001b[0;34m(\u001b[0m\u001b[0;34m'BleiCorpus: could not find vocabulary file'\u001b[0m\u001b[0;34m)\u001b[0m\u001b[0;34m\u001b[0m\u001b[0;34m\u001b[0m\u001b[0m\n\u001b[0m\u001b[1;32m     75\u001b[0m \u001b[0;34m\u001b[0m\u001b[0m\n\u001b[1;32m     76\u001b[0m         \u001b[0mself\u001b[0m\u001b[0;34m.\u001b[0m\u001b[0mfname\u001b[0m \u001b[0;34m=\u001b[0m \u001b[0mfname\u001b[0m\u001b[0;34m\u001b[0m\u001b[0;34m\u001b[0m\u001b[0m\n",
      "\u001b[0;31mOSError\u001b[0m: BleiCorpus: could not find vocabulary file"
     ]
    }
   ],
   "source": [
    "# loading our corpus and dictionary\n",
    "try:\n",
    "    dictionary = Dictionary.load('dataset/dict_dtm')\n",
    "except FileNotFoundError as e:\n",
    "    raise ValueError(\"SKIP: Please find dataset/dict_dtm dictionary=id2vec\")\n",
    "\n",
    "    \n",
    "corpus = bleicorpus.BleiCorpus('dataset/corpus_dtm')\n",
    "# it's very important that your corpus is saved in order of your time-slices!\n",
    "\n",
    "time_slice = [329, 657, 1557, 7839, 57586]"
   ]
  },
  {
   "cell_type": "code",
   "execution_count": 9,
   "metadata": {},
   "outputs": [
    {
     "data": {
      "text/plain": [
       "<gensim.models.ldaseqmodel.LdaSeqModel at 0x7fad70c06d90>"
      ]
     },
     "execution_count": 9,
     "metadata": {},
     "output_type": "execute_result"
    }
   ],
   "source": [
    "ldaseq"
   ]
  },
  {
   "cell_type": "code",
   "execution_count": 10,
   "metadata": {},
   "outputs": [],
   "source": [
    "# Plotting tools\n",
    "import pyLDAvis\n",
    "import pyLDAvis.sklearn\n",
    "import matplotlib.pyplot as plt\n",
    "%matplotlib inline"
   ]
  },
  {
   "cell_type": "code",
   "execution_count": null,
   "metadata": {},
   "outputs": [],
   "source": [
    "pyLDAvis.enable_notebook()\n",
    "# This is apply on sklearn best lda model (select from gesim result), topic = 7\n",
    "panel = pyLDAvis.sklearn.prepare(ldaseq, data_vectorized, vectorizer, mds='tsne')\n",
    "panel"
   ]
  },
  {
   "cell_type": "code",
   "execution_count": 3,
   "metadata": {},
   "outputs": [],
   "source": [
    "from gensim.test.utils import datapath"
   ]
  },
  {
   "cell_type": "code",
   "execution_count": 4,
   "metadata": {},
   "outputs": [],
   "source": [
    "temp_file = datapath(\"model\")"
   ]
  },
  {
   "cell_type": "code",
   "execution_count": 5,
   "metadata": {},
   "outputs": [],
   "source": [
    "ldaseq.save(temp_file)"
   ]
  },
  {
   "cell_type": "code",
   "execution_count": 6,
   "metadata": {},
   "outputs": [],
   "source": [
    "# Load a potentially pre-trained model from disk.\n",
    "ldaseq = LdaSeqModel.load(temp_file)"
   ]
  },
  {
   "cell_type": "code",
   "execution_count": 7,
   "metadata": {},
   "outputs": [],
   "source": [
    "doc = common_corpus[1]"
   ]
  },
  {
   "cell_type": "code",
   "execution_count": 8,
   "metadata": {},
   "outputs": [],
   "source": [
    "embedding = ldaseq[doc]"
   ]
  },
  {
   "cell_type": "code",
   "execution_count": null,
   "metadata": {},
   "outputs": [],
   "source": []
  }
 ],
 "metadata": {
  "kernelspec": {
   "display_name": "Python 3",
   "language": "python",
   "name": "python3"
  },
  "language_info": {
   "codemirror_mode": {
    "name": "ipython",
    "version": 3
   },
   "file_extension": ".py",
   "mimetype": "text/x-python",
   "name": "python",
   "nbconvert_exporter": "python",
   "pygments_lexer": "ipython3",
   "version": "3.7.4"
  }
 },
 "nbformat": 4,
 "nbformat_minor": 2
}
